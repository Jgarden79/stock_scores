{
 "cells": [
  {
   "cell_type": "code",
   "execution_count": 1,
   "metadata": {},
   "outputs": [
    {
     "data": {
      "text/html": [
       "        <script type=\"text/javascript\">\n",
       "        window.PlotlyConfig = {MathJaxConfig: 'local'};\n",
       "        if (window.MathJax) {MathJax.Hub.Config({SVG: {font: \"STIX-Web\"}});}\n",
       "        if (typeof require !== 'undefined') {\n",
       "        require.undef(\"plotly\");\n",
       "        requirejs.config({\n",
       "            paths: {\n",
       "                'plotly': ['https://cdn.plot.ly/plotly-latest.min']\n",
       "            }\n",
       "        });\n",
       "        require(['plotly'], function(Plotly) {\n",
       "            window._Plotly = Plotly;\n",
       "        });\n",
       "        }\n",
       "        </script>\n",
       "        "
      ]
     },
     "metadata": {},
     "output_type": "display_data"
    },
    {
     "data": {
      "text/html": [
       "        <script type=\"text/javascript\">\n",
       "        window.PlotlyConfig = {MathJaxConfig: 'local'};\n",
       "        if (window.MathJax) {MathJax.Hub.Config({SVG: {font: \"STIX-Web\"}});}\n",
       "        if (typeof require !== 'undefined') {\n",
       "        require.undef(\"plotly\");\n",
       "        requirejs.config({\n",
       "            paths: {\n",
       "                'plotly': ['https://cdn.plot.ly/plotly-latest.min']\n",
       "            }\n",
       "        });\n",
       "        require(['plotly'], function(Plotly) {\n",
       "            window._Plotly = Plotly;\n",
       "        });\n",
       "        }\n",
       "        </script>\n",
       "        "
      ]
     },
     "metadata": {},
     "output_type": "display_data"
    }
   ],
   "source": [
    "import pandas as pd\n",
    "import numpy as np\n",
    "import eikon as ek\n",
    "import sys\n",
    "import config\n",
    "ek.set_app_key(config.eikon_key)\n",
    "import DatastreamDSWS as DSWS\n",
    "ds = DSWS.Datastream(username = 'JGarden1@lidoadvisors.com', password= 'Welcome2')\n",
    "from datetime import timedelta\n",
    "import datetime\n",
    "from scipy.optimize import minimize\n",
    "from arch import arch_model\n",
    "from tqdm import tqdm\n",
    "import warnings\n",
    "warnings.filterwarnings(\"ignore\")\n",
    "import cufflinks as cf\n",
    "import configparser as cp\n",
    "cf.set_config_file(offline = True)\n",
    "from sklearn.cluster import AgglomerativeClustering\n",
    "import matplotlib.pyplot as plt\n",
    "import plotly.express as px\n",
    "import plotly.graph_objects as go\n",
    "import chart_studio\n",
    "from chart_studio.plotly import plot, iplot\n",
    "import chart_studio.plotly as py\n",
    "import random\n",
    "from sklearn.preprocessing import RobustScaler, MinMaxScaler\n",
    "from scipy.stats.mstats import winsorize\n",
    "from scipy import stats\n",
    "ek.set_timeout(60)\n",
    "import time\n",
    "import re"
   ]
  },
  {
   "cell_type": "code",
   "execution_count": 2,
   "metadata": {},
   "outputs": [],
   "source": [
    "def outlier_removal(df):\n",
    "    features = list(df.columns)\n",
    "\n",
    "\n",
    "    for f in features:\n",
    "        if df[f].dtype == 'float64':\n",
    "            x = df[f]\n",
    "            q1 = x.quantile(0.25)\n",
    "            q3 = x.quantile(0.75)\n",
    "            iqr = q3 - q1\n",
    "            top = q3 + (1.5*iqr)\n",
    "            bot = q1 - (1.5 * iqr)\n",
    "            s_out = x.where(x>bot, np.nan)\n",
    "            s_out = s_out.where(s_out<top, np.nan)\n",
    "            df[f] = list(s_out)\n",
    "            \n",
    "\n",
    "            \n",
    "    df_2 = df\n",
    "\n",
    "    \n",
    "    return df_2\n",
    "    \n",
    "    "
   ]
  },
  {
   "cell_type": "code",
   "execution_count": null,
   "metadata": {},
   "outputs": [],
   "source": []
  },
  {
   "cell_type": "code",
   "execution_count": 3,
   "metadata": {},
   "outputs": [],
   "source": [
    "def get_R3K_stocks():\n",
    "    '''This function imports the Symbols (RICS) for all stocks in the iShares Russell 3K ETF do not run w/o a subscription to refinitive.'''\n",
    "    hold = ek.get_data('IWV', fields = [ek.TR_Field('TR.ETPConstituentRIC',params={'SDate':'2021-01-07'})])[0]\n",
    "    hold = hold[hold['Constituent RIC'] != 'GOOG.OQ']\n",
    "    rics = [x for x in hold['Constituent RIC']]\n",
    "    if 'GOOG.OQ' in rics == True:\n",
    "        rics.remove('GOOG.OQ')\n",
    "    return rics"
   ]
  },
  {
   "cell_type": "code",
   "execution_count": 4,
   "metadata": {},
   "outputs": [],
   "source": [
    "def API_req(rus, date):\n",
    "    '''This function calls all the features for each stock at a given date, do not run w/o a subscription to refinitive. '''\n",
    "    try:\n",
    "        valuation_fields = [ek.TR_Field('TR.GICSSector'),ek.TR_Field('TR.IncomeAvailtoComExcl', params={'Period':'LTM', 'SDate': date}), ek.TR_Field('TR.EBITDA',  params={'Period':'LTM', 'SDate': date}),\n",
    "                             ek.TR_Field('TR.EBIT',  params={'Period':'LTM', 'SDate': date}), ek.TR_Field('TR.TotalEquity', params = {'Period':'FY0','SDate': date}),\n",
    "                            ek.TR_Field('TR.CompanyMarketCap', params = {'SDate': date}), ek.TR_Field('TR.EV', params = {'SDate': date})]\n",
    "        valuation_dat = ek.get_data(rus, fields=valuation_fields)[0]\n",
    "        valuation_dat.to_csv('RUT3K_VALUATION_{}.csv'.format(date))\n",
    "        time.sleep(10)\n",
    "        \n",
    "        fundam_fields = [ek.TR_Field('TR.GICSSector'), ek.TR_Field('TR.ROICMean', params={'Period':'FY2', 'SDate': date}), ek.TR_Field('TR.WACC'), ek.TR_Field('TR.ROEMean',params={'Period':'FY2', 'SDate': date}),\n",
    "                     ek.TR_Field('TR.WACCCostofEquity', params={'SDate': date}), ek.TR_Field('TR.LTGMean', params={'SDate': date}), ek.TR_Field('TR.TtlDebtToTtlCapitalPct', params={'Period':'FY0', 'SDate': date})]\n",
    "        fundamental_dat = ek.get_data(rus, fields=fundam_fields)[0] \n",
    "        fundamental_dat.to_csv('RUT3K_FUNDAM_{}.csv'.format(date))\n",
    "        time.sleep(10)\n",
    "        mom_fields = [ek.TR_Field('TR.GICSSector'), ek.TR_Field('TR.TotalReturn2YTD', params={'SDate': date}), ek.TR_Field('TR.TotalReturn6Mo', params={'SDate': date}), \n",
    "                      ek.TR_Field('TR.TotalReturn52Wk', params={'SDate': date}), ek.TR_Field('TR.WACCBeta',params={'SDate': date})]\n",
    "        momentum = ek.get_data(rus, fields=mom_fields)[0]\n",
    "        spy_rets = ek.get_data('SPY', fields=mom_fields)[0]\n",
    "        momentum.to_csv('RUT3K_MOM_{}.csv'.format(date))\n",
    "        spy_rets.to_csv('INDEX_MOM_{}.csv'.format(date))\n",
    "    except:\n",
    "        time.sleep(10)\n",
    "        valuation_fields = [ek.TR_Field('TR.GICSSector'),ek.TR_Field('TR.NetProfitMean', params={'Period':'FY1', 'SDate': date}), ek.TR_Field('TR.EBITDAReportedMean',  params={'Period':'FY1', 'SDate': date}),\n",
    "                            ek.TR_Field('TR.EBITMean', params = {'Period':'FY1', 'SDate': date}), ek.TR_Field('TR.TotalEquity', params = {'Period':'FY0','SDate': date}),\n",
    "                            ek.TR_Field('TR.CompanyMarketCap', params = {'SDate': date}), ek.TR_Field('TR.EV', params = {'SDate': date})]\n",
    "        valuation_dat = ek.get_data(rus, fields=valuation_fields)[0]\n",
    "        valuation_dat.to_csv('RUT3K_VALUATION_{}.csv'.format(date))\n",
    "        time.sleep(10)\n",
    "        \n",
    "        fundam_fields = [ek.TR_Field('TR.GICSSector'), ek.TR_Field('TR.ROICMean', params={'Period':'FY2', 'SDate': date}), ek.TR_Field('TR.WACC'), ek.TR_Field('TR.ROEMean',params={'Period':'FY2', 'SDate': date}),\n",
    "                     ek.TR_Field('TR.WACCCostofEquity', params={'SDate': date}), ek.TR_Field('TR.LTGMean', params={'SDate': date}), ek.TR_Field('TR.TtlDebtToTtlCapitalPct', params={'Period':'FY0', 'SDate': date})]\n",
    "        fundamental_dat = ek.get_data(rus, fields=fundam_fields)[0] \n",
    "        fundamental_dat.to_csv('RUT3K_FUNDAM_{}.csv'.format(date))\n",
    "        time.sleep(10)\n",
    "        mom_fields = [ek.TR_Field('TR.GICSSector'), ek.TR_Field('TR.TotalReturn2YTD', params={'SDate': date}), ek.TR_Field('TR.TotalReturn6Mo', params={'SDate': date}), \n",
    "                      ek.TR_Field('TR.TotalReturn52Wk', params={'SDate': date}), ek.TR_Field('TR.WACCBeta',params={'SDate': date})]\n",
    "        momentum = ek.get_data(rus, fields=mom_fields)[0]\n",
    "        spy_rets = ek.get_data('SPY', fields=mom_fields)[0]\n",
    "        momentum.to_csv('RUT3K_MOM_{}.csv'.format(date))\n",
    "        spy_rets.to_csv('INDEX_MOM_{}.csv'.format(date))\n",
    "    \n",
    "    return (valuation_dat, fundamental_dat, mom_fields, spy_rets)"
   ]
  },
  {
   "cell_type": "code",
   "execution_count": 5,
   "metadata": {},
   "outputs": [],
   "source": [
    "def valuation_dat(date):\n",
    "    valuation_dat = pd.read_csv('RUT3K_VALUATION_{}.csv'.format(date))\n",
    "    valuation_dat['Earnings_Yield'] = valuation_dat['Income Avail to Cmn Shareholders Excl Extra']/valuation_dat['Company Market Cap']\n",
    "    valuation_dat['Book_Market'] = valuation_dat['Total Equity']/valuation_dat['Company Market Cap']\n",
    "    valuation_dat['EBITDA_EV'] = valuation_dat['EBITDA']/valuation_dat['Enterprise Value (Daily Time Series)']\n",
    "    valuation_dat['EBIT_EV'] = valuation_dat['EBIT']/valuation_dat['Enterprise Value (Daily Time Series)']\n",
    "    \n",
    "    sectors = list(valuation_dat['GICS Sector Name'].drop_duplicates())\n",
    "    \n",
    "    valuation = pd.DataFrame()\n",
    "    for s in sectors:\n",
    "        x =  valuation_dat[valuation_dat['GICS Sector Name']==s]\n",
    "        meds = x.median()\n",
    "        x = x.fillna(meds)\n",
    "        valuation = pd.concat([valuation, x])\n",
    "    \n",
    "    \n",
    "    #valuation[['Earnings_Yield', 'Book_Market', 'EBITDA_EV', 'EBIT_EV']] = win_df(valuation[['Earnings_Yield', 'Book_Market', 'EBITDA_EV', 'EBIT_EV']])\n",
    "    \n",
    "    valuation_dat_mkt = outlier_removal(valuation)\n",
    "    valuation_dat_mkt = valuation_dat_mkt.filter(['Instrument', 'GICS Sector Name', 'Earnings_Yield', 'Book_Market', 'EBITDA_EV', 'EBIT_EV'])\n",
    "    valuation_dat_mkt\n",
    "    min_max = MinMaxScaler()\n",
    "    valuation_dat_mkt[['Earnings_Yield', 'Book_Market', 'EBITDA_EV', 'EBIT_EV']] = min_max.fit_transform(valuation_dat_mkt[['Earnings_Yield', 'Book_Market', 'EBITDA_EV', 'EBIT_EV']])\n",
    "    valuation_dat_mkt['Valuation Composite'] = valuation_dat_mkt.mean(axis = 1)\n",
    "    valuation_dat_mkt[['Valuation Composite']] = min_max.fit_transform(valuation_dat_mkt[['Valuation Composite']])\n",
    "    val_comp = valuation_dat_mkt['Valuation Composite']\n",
    "    valuation_dat_mkt = valuation_dat_mkt.drop('Valuation Composite', axis = 1)\n",
    "    \n",
    "    return valuation_dat_mkt, val_comp"
   ]
  },
  {
   "cell_type": "code",
   "execution_count": 6,
   "metadata": {},
   "outputs": [],
   "source": [
    "def fundamental_dat(date):\n",
    "    fundamental_dat = pd.read_csv('RUT3K_FUNDAM_{}.csv'.format(date))\n",
    "    fundamental_1 = fundamental_dat[fundamental_dat['Return On Invested Capital - Mean'].isnull()]\n",
    "    fundamental_1['Spread'] = fundamental_1['Return On Equity - Mean'] - fundamental_1['WACC Cost of Equity, (%)']\n",
    "    fundamental_2 = fundamental_dat[fundamental_dat['Return On Invested Capital - Mean'].notnull()]\n",
    "    fundamental_2['Spread'] = fundamental_2['Return On Invested Capital - Mean'] - fundamental_2['Weighted Average Cost of Capital, (%)']\n",
    "    fundamental_score = pd.concat([fundamental_2, fundamental_1])\n",
    "    fundamental_score['Equity To Total Cap'] = 100 - fundamental_score['Total Debt to Total Capital, Percent']\n",
    "    \n",
    "    sectors = list(fundamental_score['GICS Sector Name'].drop_duplicates())\n",
    "    \n",
    "    fund_df= pd.DataFrame()\n",
    "    for s in sectors:\n",
    "        x =  fundamental_score[fundamental_score['GICS Sector Name']==s]\n",
    "        meds = x.median()\n",
    "        x = x.fillna(meds)\n",
    "        fund_df= pd.concat([fund_df, x])\n",
    "    \n",
    "    #fund_df[['Return On Invested Capital - Mean', 'Weighted Average Cost of Capital, (%)', 'Return On Equity - Mean', \n",
    "     #                  'WACC Cost of Equity, (%)', 'Long Term Growth - Mean', 'Total Debt to Total Capital, Percent', 'Spread', \n",
    "      #                 'Equity To Total Cap']] = win_df(fund_df[['Return On Invested Capital - Mean', 'Weighted Average Cost of Capital, (%)', 'Return On Equity - Mean', \n",
    "       #                'WACC Cost of Equity, (%)', 'Long Term Growth - Mean', 'Total Debt to Total Capital, Percent', 'Spread', \n",
    "        #               'Equity To Total Cap']])\n",
    "    \n",
    "    fund_df = outlier_removal(fund_df)\n",
    "    \n",
    "    min_max = MinMaxScaler()\n",
    "    fund_df[['Return On Invested Capital - Mean', 'Weighted Average Cost of Capital, (%)', 'Return On Equity - Mean', \n",
    "                       'WACC Cost of Equity, (%)', 'Long Term Growth - Mean', 'Total Debt to Total Capital, Percent', 'Spread', \n",
    "                       'Equity To Total Cap']] = min_max.fit_transform(fund_df[['Return On Invested Capital - Mean', 'Weighted Average Cost of Capital, (%)', 'Return On Equity - Mean', \n",
    "                       'WACC Cost of Equity, (%)', 'Long Term Growth - Mean', 'Total Debt to Total Capital, Percent', 'Spread', \n",
    "                       'Equity To Total Cap']])\n",
    "\n",
    "        \n",
    "    \n",
    "    fund_df['FUND_Composite'] = fund_df[['Spread', 'Long Term Growth - Mean', 'Equity To Total Cap']].sum(axis = 1)\n",
    "    min_max = MinMaxScaler()\n",
    "    fund_df[['FUND_Composite']]  = min_max.fit_transform(fund_df[['FUND_Composite']])\n",
    "    fund_comp = fund_df[['FUND_Composite']] \n",
    "    fundamental_score = fund_df.drop('FUND_Composite', axis = 1)\n",
    "    \n",
    "    return fundamental_score, fund_comp"
   ]
  },
  {
   "cell_type": "code",
   "execution_count": 7,
   "metadata": {},
   "outputs": [],
   "source": [
    "\n",
    "def momentum_dat(date):\n",
    "    \n",
    "    momentum = pd.read_csv('RUT3K_MOM_{}.csv'.format(date))\n",
    "    spy_rets = pd.read_csv('INDEX_MOM_{}.csv'.format(date))\n",
    "    mom_1 = momentum[momentum['Beta'].notnull()]\n",
    "    mom_2 = momentum[momentum['Beta'].isnull()]\n",
    "    mom_1['24_month'] = mom_1['2 YTD Total Return'] - (spy_rets['2 YTD Total Return'].iloc[0] * mom_1['Beta'])\n",
    "    mom_1['6_month'] = mom_1['6 Month Total Return'] - (spy_rets['6 Month Total Return'].iloc[0] * mom_1['Beta'])\n",
    "    mom_1['12_month'] = mom_1['52 Week Total Return'] - (spy_rets['52 Week Total Return'].iloc[0] * mom_1['Beta'])\n",
    "    mom_2['24_month'] = mom_2['2 YTD Total Return'] - spy_rets['2 YTD Total Return'].iloc[0]\n",
    "    mom_2['6_month'] = mom_2['6 Month Total Return'] - spy_rets['6 Month Total Return'].iloc[0]\n",
    "    mom_2['12_month'] = mom_2['52 Week Total Return'] - spy_rets['52 Week Total Return'].iloc[0]    \n",
    "    momentum = pd.concat([mom_1, mom_2])\n",
    "    momentum = momentum.filter(['Instrument', 'GICS Sector Name', '24_month', '6_month', '12_month'])\n",
    "    \n",
    "    sectors = list(momentum['GICS Sector Name'].drop_duplicates())\n",
    "    \n",
    "    mom_df= pd.DataFrame()\n",
    "    for s in sectors:\n",
    "        x =  momentum[momentum['GICS Sector Name']==s]\n",
    "        meds = x.median()\n",
    "        x = x.fillna(meds)\n",
    "        mom_df= pd.concat([mom_df, x])\n",
    "        \n",
    "    #mom_df[['3_month', '6_month', '12_month']] = win_df(mom_df[['3_month', '6_month', '12_month']])\n",
    "    mom_df = outlier_removal(mom_df)\n",
    "    momentum = mom_df\n",
    "    min_max = MinMaxScaler()  \n",
    "    momentum[['24_month', '6_month', '12_month']] = min_max.fit_transform(momentum[['24_month', '6_month', '12_month']])\n",
    "    momentum['MOM_Composite'] = momentum.sum(axis = 1)\n",
    "    min_max = MinMaxScaler()    \n",
    "    momentum[['MOM_Composite']]= min_max.fit_transform(momentum[['MOM_Composite']])\n",
    "    mom_comp = momentum['MOM_Composite']\n",
    "    momentum = momentum.drop('MOM_Composite', axis = 1)\n",
    "    \n",
    "    return momentum, mom_comp"
   ]
  },
  {
   "cell_type": "code",
   "execution_count": 8,
   "metadata": {},
   "outputs": [],
   "source": [
    "\n",
    "def feature_prep(date):\n",
    "    val, val_comp = valuation_dat(date)\n",
    "    fund, fund_comp = fundamental_dat(date)\n",
    "    mom, mom_comp = momentum_dat(date)\n",
    "    val = val.set_index('Instrument').dropna()\n",
    "    fund = fund.set_index('Instrument')\n",
    "    mom = mom.set_index('Instrument')\n",
    "    \n",
    "    fund = fund.filter(['Return On Invested Capital - Mean', 'Long Term Growth - Mean','Spread',])\n",
    "    mom = mom.filter(['24_month', '6_month', '12_month'])\n",
    "    val = val.join(fund, on  = 'Instrument')\n",
    "    val = val.join(mom, on  = 'Instrument')\n",
    "    sectors = list(val['GICS Sector Name'].drop_duplicates())\n",
    "    \n",
    "    features = pd.DataFrame()\n",
    "    for s in sectors:\n",
    "        x = val[val['GICS Sector Name']==s]\n",
    "        meds = x.median()\n",
    "        x = x.fillna(meds)\n",
    "        features = pd.concat([features, x])\n",
    "        \n",
    "    features = features.fillna(0)\n",
    "    sectors = features['GICS Sector Name']\n",
    "    features = features.drop('GICS Sector Name', axis = 1)\n",
    "\n",
    "\n",
    "    \n",
    "    #comps = val_comp.to_frame(name = 'Value')\n",
    "    #comps = comps.join(mom_comp)\n",
    "    #comps = comps.join(fund_comp)\n",
    "    #comps['Instrument'] = list(features.index)\n",
    "    \n",
    "    return features, sectors"
   ]
  },
  {
   "cell_type": "code",
   "execution_count": 16,
   "metadata": {},
   "outputs": [],
   "source": [
    "def aglom(date):\n",
    "   # rus = get_R3K_stocks()\n",
    "    #d = API_req(rus, date)\n",
    "    X, sectors= feature_prep(date)\n",
    "    clstr =  AgglomerativeClustering(n_clusters = 5)\n",
    "    clstr_labs = clstr.fit(X)\n",
    "    labs =  clstr.labels_\n",
    "\n",
    "    \n",
    "    X['Clusters'] = [i + 1 for i in labs]\n",
    "    X['Sector'] = sectors\n",
    "    \n",
    "    return X"
   ]
  },
  {
   "cell_type": "code",
   "execution_count": 17,
   "metadata": {},
   "outputs": [],
   "source": [
    "def group_scores(results):\n",
    "    k = results\n",
    "    rics = list(k.index)\n",
    "    names = ek.get_data(rics, fields = 'CF_NAME')[0]\n",
    "    k['Company Name'] = list(names['CF_NAME'])\n",
    "    k['Valuation Score'] = k[['Earnings_Yield', 'Book_Market', 'EBITDA_EV', 'EBIT_EV']].mean(axis = 1)\n",
    "    k['Fundamental Score'] = k[['Return On Invested Capital - Mean', 'Long Term Growth - Mean', 'Spread']].mean(axis = 1)\n",
    "    k['Momentum Score'] = (k['24_month']*0.7) + (k['6_month']*0.05) + (k['12_month']*0.2)\n",
    "    k['Short Term Score'] = (k['Momentum Score'] *0.7) + (0.15 * k['Valuation Score']) + (0.15 * k['Fundamental Score']) \n",
    "    k['Long Term Score'] = (k['Momentum Score'] *0.25) + (0.4 * k['Valuation Score']) + (0.35 * k['Fundamental Score'])\n",
    "    k = k.filter(['Company Name', 'Sector','Clusters', 'Valuation Score','Fundamental Score','Momentum Score','Short Term Score', 'Long Term Score'])\n",
    "    k[['Valuation Score','Fundamental Score','Momentum Score','Short Term Score', 'Long Term Score']]= round(k[['Valuation Score','Fundamental Score','Momentum Score','Short Term Score', 'Long Term Score']],4)*100\n",
    "    z = k.groupby('Clusters').mean()\n",
    "   \n",
    "    \n",
    "    \n",
    "\n",
    "    \n",
    "    return k, z"
   ]
  },
  {
   "cell_type": "code",
   "execution_count": 18,
   "metadata": {},
   "outputs": [],
   "source": [
    "def run_Aglom(date):\n",
    "    results = aglom(date)\n",
    "    stocks, group = group_scores(results)\n",
    "    stocks.to_csv('{}_stock_scores.csv'.format(date))\n",
    "    group.to_csv('{}_aggregates.csv'.format(date))\n",
    "    return stocks, group"
   ]
  },
  {
   "cell_type": "code",
   "execution_count": 19,
   "metadata": {},
   "outputs": [],
   "source": [
    "date = '2021-02-10'\n",
    "k, z = run_Aglom(date)"
   ]
  },
  {
   "cell_type": "code",
   "execution_count": 72,
   "metadata": {},
   "outputs": [],
   "source": [
    "def run_stock_scores(stocks, group):\n",
    "    port = input('File Path:')\n",
    "    port = pd.read_csv(port)\n",
    "    stock_lst = list(port['Symbol'])\n",
    "    rtk = list(stocks.index)\n",
    "    x= [re.match('^([^.]+)', i)[0] for i in rtk]\n",
    "    stocks['symbol']=x \n",
    "    client_df = pd.DataFrame()\n",
    "    for i in stock_lst:\n",
    "        line = stocks[stocks['symbol']==i]\n",
    "        client_df = pd.concat([client_df, line])\n",
    "    client_df = client_df.drop('symbol', axis = 1)\n",
    "    client_df = client_df.sort_values(['Clusters', 'Long Term Score'], ascending= [True, False])\n",
    "    client_df = client_df.reset_index()\n",
    "    k_list = ['Valuation Score','Fundamental Score','Momentum Score','Short Term Score', 'Long Term Score']\n",
    "    \n",
    "    font_colors = ['#000000', '#000000', '#000000', '#000000', ['red' if i < 31 else 'black' for i in client_df['Valuation Score']], \n",
    "                  ['red' if i < 31 else 'green' if i>70 else 'black' for i in client_df['Fundamental Score']], \n",
    "                   ['red' if i < 31 else 'green' if i>70 else 'black' for i in client_df['Momentum Score']],\n",
    "                   ['red' if i < 31 else 'green' if i>70 else 'black' for i in client_df['Short Term Score']],\n",
    "                   ['red' if i < 31 else 'green' if i>70 else 'black' for i in client_df['Long Term Score']]]\n",
    "    fig = go.Figure(data=[go.Table(\n",
    "    header=dict(values=list(client_df.columns),\n",
    "                fill_color='#003C5A',\n",
    "                font_color = 'white',\n",
    "                line =dict(color = 'black'),\n",
    "                align='left'),\n",
    "    cells=dict(values=[client_df[i] for i in list(client_df.columns)],\n",
    "               fill_color='white',\n",
    "               font = dict(family=\"Arial\", size=14, color=font_colors),\n",
    "               align=['left', 'left', 'left', 'center', 'center', 'center', 'center', 'center', 'center'],\n",
    "               line =dict(color = 'black'),\n",
    "               format = [[None],[None],[None],[None], ['.2f'], ['.2f'],['.2f'], ['.2f'], ['.2f']]))\n",
    "                         ])\n",
    "\n",
    "    fig.show()\n",
    "        \n",
    "        \n",
    "    \n",
    "    \n",
    "    return client_df"
   ]
  },
  {
   "cell_type": "code",
   "execution_count": 73,
   "metadata": {},
   "outputs": [
    {
     "name": "stdin",
     "output_type": "stream",
     "text": [
      "File Path: test_1.csv\n"
     ]
    },
    {
     "data": {
      "application/vnd.plotly.v1+json": {
       "config": {
        "plotlyServerURL": "https://plot.ly"
       },
       "data": [
        {
         "cells": {
          "align": [
           "left",
           "left",
           "left",
           "center",
           "center",
           "center",
           "center",
           "center",
           "center"
          ],
          "fill": {
           "color": "white"
          },
          "font": {
           "color": [
            "#000000",
            "#000000",
            "#000000",
            "#000000",
            [
             "black",
             "black",
             "black",
             "black",
             "black",
             "black",
             "black",
             "black",
             "black",
             "black",
             "black",
             "black",
             "black",
             "black",
             "black",
             "black",
             "black",
             "black",
             "black",
             "black",
             "black",
             "black",
             "black",
             "black",
             "black",
             "black",
             "black",
             "black"
            ],
            [
             "green",
             "green",
             "green",
             "black",
             "black",
             "black",
             "black",
             "black",
             "black",
             "black",
             "black",
             "black",
             "black",
             "black",
             "black",
             "black",
             "green",
             "green",
             "green",
             "green",
             "green",
             "black",
             "black",
             "black",
             "black",
             "green",
             "black",
             "black"
            ],
            [
             "black",
             "black",
             "black",
             "black",
             "black",
             "black",
             "black",
             "black",
             "black",
             "black",
             "black",
             "black",
             "black",
             "black",
             "black",
             "black",
             "black",
             "black",
             "black",
             "black",
             "black",
             "black",
             "black",
             "black",
             "black",
             "black",
             "black",
             "black"
            ],
            [
             "black",
             "black",
             "black",
             "black",
             "black",
             "black",
             "black",
             "black",
             "black",
             "black",
             "black",
             "black",
             "black",
             "black",
             "black",
             "black",
             "black",
             "black",
             "black",
             "black",
             "black",
             "black",
             "black",
             "black",
             "black",
             "black",
             "black",
             "black"
            ],
            [
             "black",
             "black",
             "black",
             "black",
             "black",
             "black",
             "black",
             "black",
             "black",
             "black",
             "black",
             "black",
             "black",
             "black",
             "black",
             "black",
             "black",
             "black",
             "black",
             "black",
             "black",
             "black",
             "black",
             "black",
             "black",
             "black",
             "black",
             "black"
            ]
           ],
           "family": "Arial",
           "size": 14
          },
          "format": [
           [
            null
           ],
           [
            null
           ],
           [
            null
           ],
           [
            null
           ],
           [
            ".2f"
           ],
           [
            ".2f"
           ],
           [
            ".2f"
           ],
           [
            ".2f"
           ],
           [
            ".2f"
           ]
          ],
          "line": {
           "color": "black"
          },
          "values": [
           [
            "GS.N",
            "UNH.N",
            "CIEN.N",
            "DFS.N",
            "JBHT.OQ",
            "JPM.N",
            "PEP.OQ",
            "MTZ.N",
            "SCHW.N",
            "WMT.N",
            "AMGN.OQ",
            "IBM.N",
            "ABBV.N",
            "CTXS.OQ",
            "AKAM.OQ",
            "NKE.N",
            "AMD.OQ",
            "MSFT.OQ",
            "QCOM.OQ",
            "NFLX.OQ",
            "NVDA.OQ",
            "AMZN.OQ",
            "ADBE.OQ",
            "CRM.N",
            "SYF.N",
            "FB.OQ",
            "HD.N",
            "KMB.N"
           ],
           [
            "GOLDM SACHS GRP",
            "UNITEDHEALTH GP",
            "CIENA CORPRATION",
            "DISCOVER FINANC",
            "J.B. HUNT TRAN",
            "JPMORGAN CHASE",
            "PEPSICO INC",
            "MASTEC INC",
            "CHRLS SCHWB CRP",
            "WALMART INC",
            "AMGEN",
            "INTL BUS MACHINE",
            "ABBVIE",
            "CITRIX SYSTEMS",
            "AKAMAI TECH INC",
            "NIKE INC CL B",
            "ADV MICRO DEVICE",
            "MICROSOFT CP",
            "QUALCOMM INC",
            "NETFLIX INC",
            "NVIDIA CORP",
            "AMAZON COM",
            "ADOBE INC",
            "SALESFORCE COM",
            "SYNCHRONY FIN",
            "FACEBOOK INC A",
            "HOME DEPOT INC",
            "KIMBERLY-CLARK"
           ],
           [
            "Financials",
            "Health Care",
            "Information Technology",
            "Financials",
            "Industrials",
            "Financials",
            "Consumer Staples",
            "Industrials",
            "Financials",
            "Consumer Staples",
            "Health Care",
            "Information Technology",
            "Health Care",
            "Information Technology",
            "Information Technology",
            "Consumer Discretionary",
            "Information Technology",
            "Information Technology",
            "Information Technology",
            "Communication Services",
            "Information Technology",
            "Consumer Discretionary",
            "Information Technology",
            "Information Technology",
            "Financials",
            "Communication Services",
            "Consumer Discretionary",
            "Consumer Staples"
           ],
           [
            1,
            1,
            1,
            1,
            1,
            1,
            1,
            1,
            1,
            1,
            1,
            1,
            1,
            3,
            3,
            3,
            4,
            4,
            4,
            4,
            4,
            4,
            4,
            4,
            5,
            5,
            5,
            5
           ],
           [
            59.660000000000004,
            55.69,
            56.19,
            59.28,
            51.790000000000006,
            67.52,
            52.54,
            57.9,
            47.68,
            55.22,
            54.15,
            56.46,
            33.4,
            47.14,
            51.739999999999995,
            41.980000000000004,
            42.29,
            46.81,
            49.76,
            45.69,
            41.05,
            42.699999999999996,
            43.269999999999996,
            40.8,
            69.71000000000001,
            50.949999999999996,
            51.71,
            54.58
           ],
           [
            70.35,
            75.81,
            70.42,
            61.56,
            60.73,
            44.57,
            57.34,
            45.09,
            57.730000000000004,
            44.34,
            38.4,
            41.81,
            34.5,
            54.81,
            48.76,
            54.290000000000006,
            91.07,
            82.80999999999999,
            77.02,
            78.75,
            86.14,
            68.15,
            65.7,
            60.12,
            58.5,
            70.08,
            64.42999999999999,
            53.81
           ],
           [
            50.449999999999996,
            48.08,
            52.96999999999999,
            41.730000000000004,
            50.59,
            41.33,
            44.45,
            52.910000000000004,
            48.77,
            54.36,
            43.9,
            35.29,
            49.04,
            55.54,
            52.22,
            58.43000000000001,
            66.27,
            61.68,
            64.64999999999999,
            68.47,
            59.709999999999994,
            66.77,
            58.06,
            55.31,
            38.84,
            50.06,
            50.690000000000005,
            43.08
           ],
           [
            54.82,
            53.38,
            56.07,
            47.33,
            52.290000000000006,
            45.739999999999995,
            47.599999999999994,
            52.49,
            49.95,
            52.99,
            44.62,
            39.45,
            44.51,
            54.169999999999995,
            51.629999999999995,
            55.34,
            66.39,
            62.62,
            64.27000000000001,
            66.59,
            60.88,
            63.370000000000005,
            56.989999999999995,
            53.86,
            46.42,
            53.2,
            52.900000000000006,
            46.42
           ],
           [
            61.1,
            60.83,
            60.36,
            55.69,
            54.620000000000005,
            52.94,
            52.2,
            52.17,
            51.470000000000006,
            51.2,
            46.08,
            46.04,
            37.7,
            51.93,
            50.82,
            50.4,
            65.36,
            63.129999999999995,
            63.019999999999996,
            62.949999999999996,
            61.5,
            57.63,
            54.82,
            51.190000000000005,
            58.07,
            57.42,
            55.910000000000004,
            51.44
           ]
          ]
         },
         "header": {
          "align": "left",
          "fill": {
           "color": "#003C5A"
          },
          "font": {
           "color": "white"
          },
          "line": {
           "color": "black"
          },
          "values": [
           "Instrument",
           "Company Name",
           "Sector",
           "Clusters",
           "Valuation Score",
           "Fundamental Score",
           "Momentum Score",
           "Short Term Score",
           "Long Term Score"
          ]
         },
         "type": "table"
        }
       ],
       "layout": {
        "autosize": true,
        "template": {
         "data": {
          "bar": [
           {
            "error_x": {
             "color": "#2a3f5f"
            },
            "error_y": {
             "color": "#2a3f5f"
            },
            "marker": {
             "line": {
              "color": "#E5ECF6",
              "width": 0.5
             }
            },
            "type": "bar"
           }
          ],
          "barpolar": [
           {
            "marker": {
             "line": {
              "color": "#E5ECF6",
              "width": 0.5
             }
            },
            "type": "barpolar"
           }
          ],
          "carpet": [
           {
            "aaxis": {
             "endlinecolor": "#2a3f5f",
             "gridcolor": "white",
             "linecolor": "white",
             "minorgridcolor": "white",
             "startlinecolor": "#2a3f5f"
            },
            "baxis": {
             "endlinecolor": "#2a3f5f",
             "gridcolor": "white",
             "linecolor": "white",
             "minorgridcolor": "white",
             "startlinecolor": "#2a3f5f"
            },
            "type": "carpet"
           }
          ],
          "choropleth": [
           {
            "colorbar": {
             "outlinewidth": 0,
             "ticks": ""
            },
            "type": "choropleth"
           }
          ],
          "contour": [
           {
            "colorbar": {
             "outlinewidth": 0,
             "ticks": ""
            },
            "colorscale": [
             [
              0,
              "#0d0887"
             ],
             [
              0.1111111111111111,
              "#46039f"
             ],
             [
              0.2222222222222222,
              "#7201a8"
             ],
             [
              0.3333333333333333,
              "#9c179e"
             ],
             [
              0.4444444444444444,
              "#bd3786"
             ],
             [
              0.5555555555555556,
              "#d8576b"
             ],
             [
              0.6666666666666666,
              "#ed7953"
             ],
             [
              0.7777777777777778,
              "#fb9f3a"
             ],
             [
              0.8888888888888888,
              "#fdca26"
             ],
             [
              1,
              "#f0f921"
             ]
            ],
            "type": "contour"
           }
          ],
          "contourcarpet": [
           {
            "colorbar": {
             "outlinewidth": 0,
             "ticks": ""
            },
            "type": "contourcarpet"
           }
          ],
          "heatmap": [
           {
            "colorbar": {
             "outlinewidth": 0,
             "ticks": ""
            },
            "colorscale": [
             [
              0,
              "#0d0887"
             ],
             [
              0.1111111111111111,
              "#46039f"
             ],
             [
              0.2222222222222222,
              "#7201a8"
             ],
             [
              0.3333333333333333,
              "#9c179e"
             ],
             [
              0.4444444444444444,
              "#bd3786"
             ],
             [
              0.5555555555555556,
              "#d8576b"
             ],
             [
              0.6666666666666666,
              "#ed7953"
             ],
             [
              0.7777777777777778,
              "#fb9f3a"
             ],
             [
              0.8888888888888888,
              "#fdca26"
             ],
             [
              1,
              "#f0f921"
             ]
            ],
            "type": "heatmap"
           }
          ],
          "heatmapgl": [
           {
            "colorbar": {
             "outlinewidth": 0,
             "ticks": ""
            },
            "colorscale": [
             [
              0,
              "#0d0887"
             ],
             [
              0.1111111111111111,
              "#46039f"
             ],
             [
              0.2222222222222222,
              "#7201a8"
             ],
             [
              0.3333333333333333,
              "#9c179e"
             ],
             [
              0.4444444444444444,
              "#bd3786"
             ],
             [
              0.5555555555555556,
              "#d8576b"
             ],
             [
              0.6666666666666666,
              "#ed7953"
             ],
             [
              0.7777777777777778,
              "#fb9f3a"
             ],
             [
              0.8888888888888888,
              "#fdca26"
             ],
             [
              1,
              "#f0f921"
             ]
            ],
            "type": "heatmapgl"
           }
          ],
          "histogram": [
           {
            "marker": {
             "colorbar": {
              "outlinewidth": 0,
              "ticks": ""
             }
            },
            "type": "histogram"
           }
          ],
          "histogram2d": [
           {
            "colorbar": {
             "outlinewidth": 0,
             "ticks": ""
            },
            "colorscale": [
             [
              0,
              "#0d0887"
             ],
             [
              0.1111111111111111,
              "#46039f"
             ],
             [
              0.2222222222222222,
              "#7201a8"
             ],
             [
              0.3333333333333333,
              "#9c179e"
             ],
             [
              0.4444444444444444,
              "#bd3786"
             ],
             [
              0.5555555555555556,
              "#d8576b"
             ],
             [
              0.6666666666666666,
              "#ed7953"
             ],
             [
              0.7777777777777778,
              "#fb9f3a"
             ],
             [
              0.8888888888888888,
              "#fdca26"
             ],
             [
              1,
              "#f0f921"
             ]
            ],
            "type": "histogram2d"
           }
          ],
          "histogram2dcontour": [
           {
            "colorbar": {
             "outlinewidth": 0,
             "ticks": ""
            },
            "colorscale": [
             [
              0,
              "#0d0887"
             ],
             [
              0.1111111111111111,
              "#46039f"
             ],
             [
              0.2222222222222222,
              "#7201a8"
             ],
             [
              0.3333333333333333,
              "#9c179e"
             ],
             [
              0.4444444444444444,
              "#bd3786"
             ],
             [
              0.5555555555555556,
              "#d8576b"
             ],
             [
              0.6666666666666666,
              "#ed7953"
             ],
             [
              0.7777777777777778,
              "#fb9f3a"
             ],
             [
              0.8888888888888888,
              "#fdca26"
             ],
             [
              1,
              "#f0f921"
             ]
            ],
            "type": "histogram2dcontour"
           }
          ],
          "mesh3d": [
           {
            "colorbar": {
             "outlinewidth": 0,
             "ticks": ""
            },
            "type": "mesh3d"
           }
          ],
          "parcoords": [
           {
            "line": {
             "colorbar": {
              "outlinewidth": 0,
              "ticks": ""
             }
            },
            "type": "parcoords"
           }
          ],
          "pie": [
           {
            "automargin": true,
            "type": "pie"
           }
          ],
          "scatter": [
           {
            "marker": {
             "colorbar": {
              "outlinewidth": 0,
              "ticks": ""
             }
            },
            "type": "scatter"
           }
          ],
          "scatter3d": [
           {
            "line": {
             "colorbar": {
              "outlinewidth": 0,
              "ticks": ""
             }
            },
            "marker": {
             "colorbar": {
              "outlinewidth": 0,
              "ticks": ""
             }
            },
            "type": "scatter3d"
           }
          ],
          "scattercarpet": [
           {
            "marker": {
             "colorbar": {
              "outlinewidth": 0,
              "ticks": ""
             }
            },
            "type": "scattercarpet"
           }
          ],
          "scattergeo": [
           {
            "marker": {
             "colorbar": {
              "outlinewidth": 0,
              "ticks": ""
             }
            },
            "type": "scattergeo"
           }
          ],
          "scattergl": [
           {
            "marker": {
             "colorbar": {
              "outlinewidth": 0,
              "ticks": ""
             }
            },
            "type": "scattergl"
           }
          ],
          "scattermapbox": [
           {
            "marker": {
             "colorbar": {
              "outlinewidth": 0,
              "ticks": ""
             }
            },
            "type": "scattermapbox"
           }
          ],
          "scatterpolar": [
           {
            "marker": {
             "colorbar": {
              "outlinewidth": 0,
              "ticks": ""
             }
            },
            "type": "scatterpolar"
           }
          ],
          "scatterpolargl": [
           {
            "marker": {
             "colorbar": {
              "outlinewidth": 0,
              "ticks": ""
             }
            },
            "type": "scatterpolargl"
           }
          ],
          "scatterternary": [
           {
            "marker": {
             "colorbar": {
              "outlinewidth": 0,
              "ticks": ""
             }
            },
            "type": "scatterternary"
           }
          ],
          "surface": [
           {
            "colorbar": {
             "outlinewidth": 0,
             "ticks": ""
            },
            "colorscale": [
             [
              0,
              "#0d0887"
             ],
             [
              0.1111111111111111,
              "#46039f"
             ],
             [
              0.2222222222222222,
              "#7201a8"
             ],
             [
              0.3333333333333333,
              "#9c179e"
             ],
             [
              0.4444444444444444,
              "#bd3786"
             ],
             [
              0.5555555555555556,
              "#d8576b"
             ],
             [
              0.6666666666666666,
              "#ed7953"
             ],
             [
              0.7777777777777778,
              "#fb9f3a"
             ],
             [
              0.8888888888888888,
              "#fdca26"
             ],
             [
              1,
              "#f0f921"
             ]
            ],
            "type": "surface"
           }
          ],
          "table": [
           {
            "cells": {
             "fill": {
              "color": "#EBF0F8"
             },
             "line": {
              "color": "white"
             }
            },
            "header": {
             "fill": {
              "color": "#C8D4E3"
             },
             "line": {
              "color": "white"
             }
            },
            "type": "table"
           }
          ]
         },
         "layout": {
          "annotationdefaults": {
           "arrowcolor": "#2a3f5f",
           "arrowhead": 0,
           "arrowwidth": 1
          },
          "autotypenumbers": "strict",
          "coloraxis": {
           "colorbar": {
            "outlinewidth": 0,
            "ticks": ""
           }
          },
          "colorscale": {
           "diverging": [
            [
             0,
             "#8e0152"
            ],
            [
             0.1,
             "#c51b7d"
            ],
            [
             0.2,
             "#de77ae"
            ],
            [
             0.3,
             "#f1b6da"
            ],
            [
             0.4,
             "#fde0ef"
            ],
            [
             0.5,
             "#f7f7f7"
            ],
            [
             0.6,
             "#e6f5d0"
            ],
            [
             0.7,
             "#b8e186"
            ],
            [
             0.8,
             "#7fbc41"
            ],
            [
             0.9,
             "#4d9221"
            ],
            [
             1,
             "#276419"
            ]
           ],
           "sequential": [
            [
             0,
             "#0d0887"
            ],
            [
             0.1111111111111111,
             "#46039f"
            ],
            [
             0.2222222222222222,
             "#7201a8"
            ],
            [
             0.3333333333333333,
             "#9c179e"
            ],
            [
             0.4444444444444444,
             "#bd3786"
            ],
            [
             0.5555555555555556,
             "#d8576b"
            ],
            [
             0.6666666666666666,
             "#ed7953"
            ],
            [
             0.7777777777777778,
             "#fb9f3a"
            ],
            [
             0.8888888888888888,
             "#fdca26"
            ],
            [
             1,
             "#f0f921"
            ]
           ],
           "sequentialminus": [
            [
             0,
             "#0d0887"
            ],
            [
             0.1111111111111111,
             "#46039f"
            ],
            [
             0.2222222222222222,
             "#7201a8"
            ],
            [
             0.3333333333333333,
             "#9c179e"
            ],
            [
             0.4444444444444444,
             "#bd3786"
            ],
            [
             0.5555555555555556,
             "#d8576b"
            ],
            [
             0.6666666666666666,
             "#ed7953"
            ],
            [
             0.7777777777777778,
             "#fb9f3a"
            ],
            [
             0.8888888888888888,
             "#fdca26"
            ],
            [
             1,
             "#f0f921"
            ]
           ]
          },
          "colorway": [
           "#636efa",
           "#EF553B",
           "#00cc96",
           "#ab63fa",
           "#FFA15A",
           "#19d3f3",
           "#FF6692",
           "#B6E880",
           "#FF97FF",
           "#FECB52"
          ],
          "font": {
           "color": "#2a3f5f"
          },
          "geo": {
           "bgcolor": "white",
           "lakecolor": "white",
           "landcolor": "#E5ECF6",
           "showlakes": true,
           "showland": true,
           "subunitcolor": "white"
          },
          "hoverlabel": {
           "align": "left"
          },
          "hovermode": "closest",
          "mapbox": {
           "style": "light"
          },
          "paper_bgcolor": "white",
          "plot_bgcolor": "#E5ECF6",
          "polar": {
           "angularaxis": {
            "gridcolor": "white",
            "linecolor": "white",
            "ticks": ""
           },
           "bgcolor": "#E5ECF6",
           "radialaxis": {
            "gridcolor": "white",
            "linecolor": "white",
            "ticks": ""
           }
          },
          "scene": {
           "xaxis": {
            "backgroundcolor": "#E5ECF6",
            "gridcolor": "white",
            "gridwidth": 2,
            "linecolor": "white",
            "showbackground": true,
            "ticks": "",
            "zerolinecolor": "white"
           },
           "yaxis": {
            "backgroundcolor": "#E5ECF6",
            "gridcolor": "white",
            "gridwidth": 2,
            "linecolor": "white",
            "showbackground": true,
            "ticks": "",
            "zerolinecolor": "white"
           },
           "zaxis": {
            "backgroundcolor": "#E5ECF6",
            "gridcolor": "white",
            "gridwidth": 2,
            "linecolor": "white",
            "showbackground": true,
            "ticks": "",
            "zerolinecolor": "white"
           }
          },
          "shapedefaults": {
           "line": {
            "color": "#2a3f5f"
           }
          },
          "ternary": {
           "aaxis": {
            "gridcolor": "white",
            "linecolor": "white",
            "ticks": ""
           },
           "baxis": {
            "gridcolor": "white",
            "linecolor": "white",
            "ticks": ""
           },
           "bgcolor": "#E5ECF6",
           "caxis": {
            "gridcolor": "white",
            "linecolor": "white",
            "ticks": ""
           }
          },
          "title": {
           "x": 0.05
          },
          "xaxis": {
           "automargin": true,
           "gridcolor": "white",
           "linecolor": "white",
           "ticks": "",
           "title": {
            "standoff": 15
           },
           "zerolinecolor": "white",
           "zerolinewidth": 2
          },
          "yaxis": {
           "automargin": true,
           "gridcolor": "white",
           "linecolor": "white",
           "ticks": "",
           "title": {
            "standoff": 15
           },
           "zerolinecolor": "white",
           "zerolinewidth": 2
          }
         }
        }
       }
      },
      "image/png": "[encoded data removed]",
      "text/html": [
       "<div>                            <div id=\"7d917ddf-a5ea-42f1-955a-78c71f9abc3b\" class=\"plotly-graph-div\" style=\"height:525px; width:100%;\"></div>            <script type=\"text/javascript\">                require([\"plotly\"], function(Plotly) {                    window.PLOTLYENV=window.PLOTLYENV || {};                                    if (document.getElementById(\"7d917ddf-a5ea-42f1-955a-78c71f9abc3b\")) {                    Plotly.newPlot(                        \"7d917ddf-a5ea-42f1-955a-78c71f9abc3b\",                        [{\"cells\": {\"align\": [\"left\", \"left\", \"left\", \"center\", \"center\", \"center\", \"center\", \"center\", \"center\"], \"fill\": {\"color\": \"white\"}, \"font\": {\"color\": [\"#000000\", \"#000000\", \"#000000\", \"#000000\", [\"black\", \"black\", \"black\", \"black\", \"black\", \"black\", \"black\", \"black\", \"black\", \"black\", \"black\", \"black\", \"black\", \"black\", \"black\", \"black\", \"black\", \"black\", \"black\", \"black\", \"black\", \"black\", \"black\", \"black\", \"black\", \"black\", \"black\", \"black\"], [\"green\", \"green\", \"green\", \"black\", \"black\", \"black\", \"black\", \"black\", \"black\", \"black\", \"black\", \"black\", \"black\", \"black\", \"black\", \"black\", \"green\", \"green\", \"green\", \"green\", \"green\", \"black\", \"black\", \"black\", \"black\", \"green\", \"black\", \"black\"], [\"black\", \"black\", \"black\", \"black\", \"black\", \"black\", \"black\", \"black\", \"black\", \"black\", \"black\", \"black\", \"black\", \"black\", \"black\", \"black\", \"black\", \"black\", \"black\", \"black\", \"black\", \"black\", \"black\", \"black\", \"black\", \"black\", \"black\", \"black\"], [\"black\", \"black\", \"black\", \"black\", \"black\", \"black\", \"black\", \"black\", \"black\", \"black\", \"black\", \"black\", \"black\", \"black\", \"black\", \"black\", \"black\", \"black\", \"black\", \"black\", \"black\", \"black\", \"black\", \"black\", \"black\", \"black\", \"black\", \"black\"], [\"black\", \"black\", \"black\", \"black\", \"black\", \"black\", \"black\", \"black\", \"black\", \"black\", \"black\", \"black\", \"black\", \"black\", \"black\", \"black\", \"black\", \"black\", \"black\", \"black\", \"black\", \"black\", \"black\", \"black\", \"black\", \"black\", \"black\", \"black\"]], \"family\": \"Arial\", \"size\": 14}, \"format\": [[null], [null], [null], [null], [\".2f\"], [\".2f\"], [\".2f\"], [\".2f\"], [\".2f\"]], \"line\": {\"color\": \"black\"}, \"values\": [[\"GS.N\", \"UNH.N\", \"CIEN.N\", \"DFS.N\", \"JBHT.OQ\", \"JPM.N\", \"PEP.OQ\", \"MTZ.N\", \"SCHW.N\", \"WMT.N\", \"AMGN.OQ\", \"IBM.N\", \"ABBV.N\", \"CTXS.OQ\", \"AKAM.OQ\", \"NKE.N\", \"AMD.OQ\", \"MSFT.OQ\", \"QCOM.OQ\", \"NFLX.OQ\", \"NVDA.OQ\", \"AMZN.OQ\", \"ADBE.OQ\", \"CRM.N\", \"SYF.N\", \"FB.OQ\", \"HD.N\", \"KMB.N\"], [\"GOLDM SACHS GRP\", \"UNITEDHEALTH GP\", \"CIENA CORPRATION\", \"DISCOVER FINANC\", \"J.B. HUNT TRAN\", \"JPMORGAN CHASE\", \"PEPSICO INC\", \"MASTEC INC\", \"CHRLS SCHWB CRP\", \"WALMART INC\", \"AMGEN\", \"INTL BUS MACHINE\", \"ABBVIE\", \"CITRIX SYSTEMS\", \"AKAMAI TECH INC\", \"NIKE INC CL B\", \"ADV MICRO DEVICE\", \"MICROSOFT CP\", \"QUALCOMM INC\", \"NETFLIX INC\", \"NVIDIA CORP\", \"AMAZON COM\", \"ADOBE INC\", \"SALESFORCE COM\", \"SYNCHRONY FIN\", \"FACEBOOK INC A\", \"HOME DEPOT INC\", \"KIMBERLY-CLARK\"], [\"Financials\", \"Health Care\", \"Information Technology\", \"Financials\", \"Industrials\", \"Financials\", \"Consumer Staples\", \"Industrials\", \"Financials\", \"Consumer Staples\", \"Health Care\", \"Information Technology\", \"Health Care\", \"Information Technology\", \"Information Technology\", \"Consumer Discretionary\", \"Information Technology\", \"Information Technology\", \"Information Technology\", \"Communication Services\", \"Information Technology\", \"Consumer Discretionary\", \"Information Technology\", \"Information Technology\", \"Financials\", \"Communication Services\", \"Consumer Discretionary\", \"Consumer Staples\"], [1, 1, 1, 1, 1, 1, 1, 1, 1, 1, 1, 1, 1, 3, 3, 3, 4, 4, 4, 4, 4, 4, 4, 4, 5, 5, 5, 5], [59.660000000000004, 55.69, 56.19, 59.28, 51.790000000000006, 67.52, 52.54, 57.9, 47.68, 55.22, 54.15, 56.46, 33.4, 47.14, 51.739999999999995, 41.980000000000004, 42.29, 46.81, 49.76, 45.69, 41.05, 42.699999999999996, 43.269999999999996, 40.8, 69.71000000000001, 50.949999999999996, 51.71, 54.58], [70.35, 75.81, 70.42, 61.56, 60.73, 44.57, 57.34, 45.09, 57.730000000000004, 44.34, 38.4, 41.81, 34.5, 54.81, 48.76, 54.290000000000006, 91.07, 82.80999999999999, 77.02, 78.75, 86.14, 68.15, 65.7, 60.12, 58.5, 70.08, 64.42999999999999, 53.81], [50.449999999999996, 48.08, 52.96999999999999, 41.730000000000004, 50.59, 41.33, 44.45, 52.910000000000004, 48.77, 54.36, 43.9, 35.29, 49.04, 55.54, 52.22, 58.43000000000001, 66.27, 61.68, 64.64999999999999, 68.47, 59.709999999999994, 66.77, 58.06, 55.31, 38.84, 50.06, 50.690000000000005, 43.08], [54.82, 53.38, 56.07, 47.33, 52.290000000000006, 45.739999999999995, 47.599999999999994, 52.49, 49.95, 52.99, 44.62, 39.45, 44.51, 54.169999999999995, 51.629999999999995, 55.34, 66.39, 62.62, 64.27000000000001, 66.59, 60.88, 63.370000000000005, 56.989999999999995, 53.86, 46.42, 53.2, 52.900000000000006, 46.42], [61.1, 60.83, 60.36, 55.69, 54.620000000000005, 52.94, 52.2, 52.17, 51.470000000000006, 51.2, 46.08, 46.04, 37.7, 51.93, 50.82, 50.4, 65.36, 63.129999999999995, 63.019999999999996, 62.949999999999996, 61.5, 57.63, 54.82, 51.190000000000005, 58.07, 57.42, 55.910000000000004, 51.44]]}, \"header\": {\"align\": \"left\", \"fill\": {\"color\": \"#003C5A\"}, \"font\": {\"color\": \"white\"}, \"line\": {\"color\": \"black\"}, \"values\": [\"Instrument\", \"Company Name\", \"Sector\", \"Clusters\", \"Valuation Score\", \"Fundamental Score\", \"Momentum Score\", \"Short Term Score\", \"Long Term Score\"]}, \"type\": \"table\"}],                        {\"template\": {\"data\": {\"bar\": [{\"error_x\": {\"color\": \"#2a3f5f\"}, \"error_y\": {\"color\": \"#2a3f5f\"}, \"marker\": {\"line\": {\"color\": \"#E5ECF6\", \"width\": 0.5}}, \"type\": \"bar\"}], \"barpolar\": [{\"marker\": {\"line\": {\"color\": \"#E5ECF6\", \"width\": 0.5}}, \"type\": \"barpolar\"}], \"carpet\": [{\"aaxis\": {\"endlinecolor\": \"#2a3f5f\", \"gridcolor\": \"white\", \"linecolor\": \"white\", \"minorgridcolor\": \"white\", \"startlinecolor\": \"#2a3f5f\"}, \"baxis\": {\"endlinecolor\": \"#2a3f5f\", \"gridcolor\": \"white\", \"linecolor\": \"white\", \"minorgridcolor\": \"white\", \"startlinecolor\": \"#2a3f5f\"}, \"type\": \"carpet\"}], \"choropleth\": [{\"colorbar\": {\"outlinewidth\": 0, \"ticks\": \"\"}, \"type\": \"choropleth\"}], \"contour\": [{\"colorbar\": {\"outlinewidth\": 0, \"ticks\": \"\"}, \"colorscale\": [[0.0, \"#0d0887\"], [0.1111111111111111, \"#46039f\"], [0.2222222222222222, \"#7201a8\"], [0.3333333333333333, \"#9c179e\"], [0.4444444444444444, \"#bd3786\"], [0.5555555555555556, \"#d8576b\"], [0.6666666666666666, \"#ed7953\"], [0.7777777777777778, \"#fb9f3a\"], [0.8888888888888888, \"#fdca26\"], [1.0, \"#f0f921\"]], \"type\": \"contour\"}], \"contourcarpet\": [{\"colorbar\": {\"outlinewidth\": 0, \"ticks\": \"\"}, \"type\": \"contourcarpet\"}], \"heatmap\": [{\"colorbar\": {\"outlinewidth\": 0, \"ticks\": \"\"}, \"colorscale\": [[0.0, \"#0d0887\"], [0.1111111111111111, \"#46039f\"], [0.2222222222222222, \"#7201a8\"], [0.3333333333333333, \"#9c179e\"], [0.4444444444444444, \"#bd3786\"], [0.5555555555555556, \"#d8576b\"], [0.6666666666666666, \"#ed7953\"], [0.7777777777777778, \"#fb9f3a\"], [0.8888888888888888, \"#fdca26\"], [1.0, \"#f0f921\"]], \"type\": \"heatmap\"}], \"heatmapgl\": [{\"colorbar\": {\"outlinewidth\": 0, \"ticks\": \"\"}, \"colorscale\": [[0.0, \"#0d0887\"], [0.1111111111111111, \"#46039f\"], [0.2222222222222222, \"#7201a8\"], [0.3333333333333333, \"#9c179e\"], [0.4444444444444444, \"#bd3786\"], [0.5555555555555556, \"#d8576b\"], [0.6666666666666666, \"#ed7953\"], [0.7777777777777778, \"#fb9f3a\"], [0.8888888888888888, \"#fdca26\"], [1.0, \"#f0f921\"]], \"type\": \"heatmapgl\"}], \"histogram\": [{\"marker\": {\"colorbar\": {\"outlinewidth\": 0, \"ticks\": \"\"}}, \"type\": \"histogram\"}], \"histogram2d\": [{\"colorbar\": {\"outlinewidth\": 0, \"ticks\": \"\"}, \"colorscale\": [[0.0, \"#0d0887\"], [0.1111111111111111, \"#46039f\"], [0.2222222222222222, \"#7201a8\"], [0.3333333333333333, \"#9c179e\"], [0.4444444444444444, \"#bd3786\"], [0.5555555555555556, \"#d8576b\"], [0.6666666666666666, \"#ed7953\"], [0.7777777777777778, \"#fb9f3a\"], [0.8888888888888888, \"#fdca26\"], [1.0, \"#f0f921\"]], \"type\": \"histogram2d\"}], \"histogram2dcontour\": [{\"colorbar\": {\"outlinewidth\": 0, \"ticks\": \"\"}, \"colorscale\": [[0.0, \"#0d0887\"], [0.1111111111111111, \"#46039f\"], [0.2222222222222222, \"#7201a8\"], [0.3333333333333333, \"#9c179e\"], [0.4444444444444444, \"#bd3786\"], [0.5555555555555556, \"#d8576b\"], [0.6666666666666666, \"#ed7953\"], [0.7777777777777778, \"#fb9f3a\"], [0.8888888888888888, \"#fdca26\"], [1.0, \"#f0f921\"]], \"type\": \"histogram2dcontour\"}], \"mesh3d\": [{\"colorbar\": {\"outlinewidth\": 0, \"ticks\": \"\"}, \"type\": \"mesh3d\"}], \"parcoords\": [{\"line\": {\"colorbar\": {\"outlinewidth\": 0, \"ticks\": \"\"}}, \"type\": \"parcoords\"}], \"pie\": [{\"automargin\": true, \"type\": \"pie\"}], \"scatter\": [{\"marker\": {\"colorbar\": {\"outlinewidth\": 0, \"ticks\": \"\"}}, \"type\": \"scatter\"}], \"scatter3d\": [{\"line\": {\"colorbar\": {\"outlinewidth\": 0, \"ticks\": \"\"}}, \"marker\": {\"colorbar\": {\"outlinewidth\": 0, \"ticks\": \"\"}}, \"type\": \"scatter3d\"}], \"scattercarpet\": [{\"marker\": {\"colorbar\": {\"outlinewidth\": 0, \"ticks\": \"\"}}, \"type\": \"scattercarpet\"}], \"scattergeo\": [{\"marker\": {\"colorbar\": {\"outlinewidth\": 0, \"ticks\": \"\"}}, \"type\": \"scattergeo\"}], \"scattergl\": [{\"marker\": {\"colorbar\": {\"outlinewidth\": 0, \"ticks\": \"\"}}, \"type\": \"scattergl\"}], \"scattermapbox\": [{\"marker\": {\"colorbar\": {\"outlinewidth\": 0, \"ticks\": \"\"}}, \"type\": \"scattermapbox\"}], \"scatterpolar\": [{\"marker\": {\"colorbar\": {\"outlinewidth\": 0, \"ticks\": \"\"}}, \"type\": \"scatterpolar\"}], \"scatterpolargl\": [{\"marker\": {\"colorbar\": {\"outlinewidth\": 0, \"ticks\": \"\"}}, \"type\": \"scatterpolargl\"}], \"scatterternary\": [{\"marker\": {\"colorbar\": {\"outlinewidth\": 0, \"ticks\": \"\"}}, \"type\": \"scatterternary\"}], \"surface\": [{\"colorbar\": {\"outlinewidth\": 0, \"ticks\": \"\"}, \"colorscale\": [[0.0, \"#0d0887\"], [0.1111111111111111, \"#46039f\"], [0.2222222222222222, \"#7201a8\"], [0.3333333333333333, \"#9c179e\"], [0.4444444444444444, \"#bd3786\"], [0.5555555555555556, \"#d8576b\"], [0.6666666666666666, \"#ed7953\"], [0.7777777777777778, \"#fb9f3a\"], [0.8888888888888888, \"#fdca26\"], [1.0, \"#f0f921\"]], \"type\": \"surface\"}], \"table\": [{\"cells\": {\"fill\": {\"color\": \"#EBF0F8\"}, \"line\": {\"color\": \"white\"}}, \"header\": {\"fill\": {\"color\": \"#C8D4E3\"}, \"line\": {\"color\": \"white\"}}, \"type\": \"table\"}]}, \"layout\": {\"annotationdefaults\": {\"arrowcolor\": \"#2a3f5f\", \"arrowhead\": 0, \"arrowwidth\": 1}, \"autotypenumbers\": \"strict\", \"coloraxis\": {\"colorbar\": {\"outlinewidth\": 0, \"ticks\": \"\"}}, \"colorscale\": {\"diverging\": [[0, \"#8e0152\"], [0.1, \"#c51b7d\"], [0.2, \"#de77ae\"], [0.3, \"#f1b6da\"], [0.4, \"#fde0ef\"], [0.5, \"#f7f7f7\"], [0.6, \"#e6f5d0\"], [0.7, \"#b8e186\"], [0.8, \"#7fbc41\"], [0.9, \"#4d9221\"], [1, \"#276419\"]], \"sequential\": [[0.0, \"#0d0887\"], [0.1111111111111111, \"#46039f\"], [0.2222222222222222, \"#7201a8\"], [0.3333333333333333, \"#9c179e\"], [0.4444444444444444, \"#bd3786\"], [0.5555555555555556, \"#d8576b\"], [0.6666666666666666, \"#ed7953\"], [0.7777777777777778, \"#fb9f3a\"], [0.8888888888888888, \"#fdca26\"], [1.0, \"#f0f921\"]], \"sequentialminus\": [[0.0, \"#0d0887\"], [0.1111111111111111, \"#46039f\"], [0.2222222222222222, \"#7201a8\"], [0.3333333333333333, \"#9c179e\"], [0.4444444444444444, \"#bd3786\"], [0.5555555555555556, \"#d8576b\"], [0.6666666666666666, \"#ed7953\"], [0.7777777777777778, \"#fb9f3a\"], [0.8888888888888888, \"#fdca26\"], [1.0, \"#f0f921\"]]}, \"colorway\": [\"#636efa\", \"#EF553B\", \"#00cc96\", \"#ab63fa\", \"#FFA15A\", \"#19d3f3\", \"#FF6692\", \"#B6E880\", \"#FF97FF\", \"#FECB52\"], \"font\": {\"color\": \"#2a3f5f\"}, \"geo\": {\"bgcolor\": \"white\", \"lakecolor\": \"white\", \"landcolor\": \"#E5ECF6\", \"showlakes\": true, \"showland\": true, \"subunitcolor\": \"white\"}, \"hoverlabel\": {\"align\": \"left\"}, \"hovermode\": \"closest\", \"mapbox\": {\"style\": \"light\"}, \"paper_bgcolor\": \"white\", \"plot_bgcolor\": \"#E5ECF6\", \"polar\": {\"angularaxis\": {\"gridcolor\": \"white\", \"linecolor\": \"white\", \"ticks\": \"\"}, \"bgcolor\": \"#E5ECF6\", \"radialaxis\": {\"gridcolor\": \"white\", \"linecolor\": \"white\", \"ticks\": \"\"}}, \"scene\": {\"xaxis\": {\"backgroundcolor\": \"#E5ECF6\", \"gridcolor\": \"white\", \"gridwidth\": 2, \"linecolor\": \"white\", \"showbackground\": true, \"ticks\": \"\", \"zerolinecolor\": \"white\"}, \"yaxis\": {\"backgroundcolor\": \"#E5ECF6\", \"gridcolor\": \"white\", \"gridwidth\": 2, \"linecolor\": \"white\", \"showbackground\": true, \"ticks\": \"\", \"zerolinecolor\": \"white\"}, \"zaxis\": {\"backgroundcolor\": \"#E5ECF6\", \"gridcolor\": \"white\", \"gridwidth\": 2, \"linecolor\": \"white\", \"showbackground\": true, \"ticks\": \"\", \"zerolinecolor\": \"white\"}}, \"shapedefaults\": {\"line\": {\"color\": \"#2a3f5f\"}}, \"ternary\": {\"aaxis\": {\"gridcolor\": \"white\", \"linecolor\": \"white\", \"ticks\": \"\"}, \"baxis\": {\"gridcolor\": \"white\", \"linecolor\": \"white\", \"ticks\": \"\"}, \"bgcolor\": \"#E5ECF6\", \"caxis\": {\"gridcolor\": \"white\", \"linecolor\": \"white\", \"ticks\": \"\"}}, \"title\": {\"x\": 0.05}, \"xaxis\": {\"automargin\": true, \"gridcolor\": \"white\", \"linecolor\": \"white\", \"ticks\": \"\", \"title\": {\"standoff\": 15}, \"zerolinecolor\": \"white\", \"zerolinewidth\": 2}, \"yaxis\": {\"automargin\": true, \"gridcolor\": \"white\", \"linecolor\": \"white\", \"ticks\": \"\", \"title\": {\"standoff\": 15}, \"zerolinecolor\": \"white\", \"zerolinewidth\": 2}}}},                        {\"responsive\": true}                    ).then(function(){\n",
       "                            \n",
       "var gd = document.getElementById('7d917ddf-a5ea-42f1-955a-78c71f9abc3b');\n",
       "var x = new MutationObserver(function (mutations, observer) {{\n",
       "        var display = window.getComputedStyle(gd).display;\n",
       "        if (!display || display === 'none') {{\n",
       "            console.log([gd, 'removed!']);\n",
       "            Plotly.purge(gd);\n",
       "            observer.disconnect();\n",
       "        }}\n",
       "}});\n",
       "\n",
       "// Listen for the removal of the full notebook cells\n",
       "var notebookContainer = gd.closest('#notebook-container');\n",
       "if (notebookContainer) {{\n",
       "    x.observe(notebookContainer, {childList: true});\n",
       "}}\n",
       "\n",
       "// Listen for the clearing of the current output cell\n",
       "var outputEl = gd.closest('.output');\n",
       "if (outputEl) {{\n",
       "    x.observe(outputEl, {childList: true});\n",
       "}}\n",
       "\n",
       "                        })                };                });            </script>        </div>"
      ]
     },
     "metadata": {},
     "output_type": "display_data"
    },
    {
     "data": {
      "text/html": [
       "<div>\n",
       "<style scoped>\n",
       "    .dataframe tbody tr th:only-of-type {\n",
       "        vertical-align: middle;\n",
       "    }\n",
       "\n",
       "    .dataframe tbody tr th {\n",
       "        vertical-align: top;\n",
       "    }\n",
       "\n",
       "    .dataframe thead th {\n",
       "        text-align: right;\n",
       "    }\n",
       "</style>\n",
       "<table border=\"1\" class=\"dataframe\">\n",
       "  <thead>\n",
       "    <tr style=\"text-align: right;\">\n",
       "      <th></th>\n",
       "      <th>Instrument</th>\n",
       "      <th>Company Name</th>\n",
       "      <th>Sector</th>\n",
       "      <th>Clusters</th>\n",
       "      <th>Valuation Score</th>\n",
       "      <th>Fundamental Score</th>\n",
       "      <th>Momentum Score</th>\n",
       "      <th>Short Term Score</th>\n",
       "      <th>Long Term Score</th>\n",
       "    </tr>\n",
       "  </thead>\n",
       "  <tbody>\n",
       "    <tr>\n",
       "      <th>0</th>\n",
       "      <td>GS.N</td>\n",
       "      <td>GOLDM SACHS GRP</td>\n",
       "      <td>Financials</td>\n",
       "      <td>1</td>\n",
       "      <td>59.66</td>\n",
       "      <td>70.35</td>\n",
       "      <td>50.45</td>\n",
       "      <td>54.82</td>\n",
       "      <td>61.10</td>\n",
       "    </tr>\n",
       "    <tr>\n",
       "      <th>1</th>\n",
       "      <td>UNH.N</td>\n",
       "      <td>UNITEDHEALTH GP</td>\n",
       "      <td>Health Care</td>\n",
       "      <td>1</td>\n",
       "      <td>55.69</td>\n",
       "      <td>75.81</td>\n",
       "      <td>48.08</td>\n",
       "      <td>53.38</td>\n",
       "      <td>60.83</td>\n",
       "    </tr>\n",
       "    <tr>\n",
       "      <th>2</th>\n",
       "      <td>CIEN.N</td>\n",
       "      <td>CIENA CORPRATION</td>\n",
       "      <td>Information Technology</td>\n",
       "      <td>1</td>\n",
       "      <td>56.19</td>\n",
       "      <td>70.42</td>\n",
       "      <td>52.97</td>\n",
       "      <td>56.07</td>\n",
       "      <td>60.36</td>\n",
       "    </tr>\n",
       "    <tr>\n",
       "      <th>3</th>\n",
       "      <td>DFS.N</td>\n",
       "      <td>DISCOVER FINANC</td>\n",
       "      <td>Financials</td>\n",
       "      <td>1</td>\n",
       "      <td>59.28</td>\n",
       "      <td>61.56</td>\n",
       "      <td>41.73</td>\n",
       "      <td>47.33</td>\n",
       "      <td>55.69</td>\n",
       "    </tr>\n",
       "    <tr>\n",
       "      <th>4</th>\n",
       "      <td>JBHT.OQ</td>\n",
       "      <td>J.B. HUNT TRAN</td>\n",
       "      <td>Industrials</td>\n",
       "      <td>1</td>\n",
       "      <td>51.79</td>\n",
       "      <td>60.73</td>\n",
       "      <td>50.59</td>\n",
       "      <td>52.29</td>\n",
       "      <td>54.62</td>\n",
       "    </tr>\n",
       "    <tr>\n",
       "      <th>5</th>\n",
       "      <td>JPM.N</td>\n",
       "      <td>JPMORGAN CHASE</td>\n",
       "      <td>Financials</td>\n",
       "      <td>1</td>\n",
       "      <td>67.52</td>\n",
       "      <td>44.57</td>\n",
       "      <td>41.33</td>\n",
       "      <td>45.74</td>\n",
       "      <td>52.94</td>\n",
       "    </tr>\n",
       "    <tr>\n",
       "      <th>6</th>\n",
       "      <td>PEP.OQ</td>\n",
       "      <td>PEPSICO INC</td>\n",
       "      <td>Consumer Staples</td>\n",
       "      <td>1</td>\n",
       "      <td>52.54</td>\n",
       "      <td>57.34</td>\n",
       "      <td>44.45</td>\n",
       "      <td>47.60</td>\n",
       "      <td>52.20</td>\n",
       "    </tr>\n",
       "    <tr>\n",
       "      <th>7</th>\n",
       "      <td>MTZ.N</td>\n",
       "      <td>MASTEC INC</td>\n",
       "      <td>Industrials</td>\n",
       "      <td>1</td>\n",
       "      <td>57.90</td>\n",
       "      <td>45.09</td>\n",
       "      <td>52.91</td>\n",
       "      <td>52.49</td>\n",
       "      <td>52.17</td>\n",
       "    </tr>\n",
       "    <tr>\n",
       "      <th>8</th>\n",
       "      <td>SCHW.N</td>\n",
       "      <td>CHRLS SCHWB CRP</td>\n",
       "      <td>Financials</td>\n",
       "      <td>1</td>\n",
       "      <td>47.68</td>\n",
       "      <td>57.73</td>\n",
       "      <td>48.77</td>\n",
       "      <td>49.95</td>\n",
       "      <td>51.47</td>\n",
       "    </tr>\n",
       "    <tr>\n",
       "      <th>9</th>\n",
       "      <td>WMT.N</td>\n",
       "      <td>WALMART INC</td>\n",
       "      <td>Consumer Staples</td>\n",
       "      <td>1</td>\n",
       "      <td>55.22</td>\n",
       "      <td>44.34</td>\n",
       "      <td>54.36</td>\n",
       "      <td>52.99</td>\n",
       "      <td>51.20</td>\n",
       "    </tr>\n",
       "    <tr>\n",
       "      <th>10</th>\n",
       "      <td>AMGN.OQ</td>\n",
       "      <td>AMGEN</td>\n",
       "      <td>Health Care</td>\n",
       "      <td>1</td>\n",
       "      <td>54.15</td>\n",
       "      <td>38.40</td>\n",
       "      <td>43.90</td>\n",
       "      <td>44.62</td>\n",
       "      <td>46.08</td>\n",
       "    </tr>\n",
       "    <tr>\n",
       "      <th>11</th>\n",
       "      <td>IBM.N</td>\n",
       "      <td>INTL BUS MACHINE</td>\n",
       "      <td>Information Technology</td>\n",
       "      <td>1</td>\n",
       "      <td>56.46</td>\n",
       "      <td>41.81</td>\n",
       "      <td>35.29</td>\n",
       "      <td>39.45</td>\n",
       "      <td>46.04</td>\n",
       "    </tr>\n",
       "    <tr>\n",
       "      <th>12</th>\n",
       "      <td>ABBV.N</td>\n",
       "      <td>ABBVIE</td>\n",
       "      <td>Health Care</td>\n",
       "      <td>1</td>\n",
       "      <td>33.40</td>\n",
       "      <td>34.50</td>\n",
       "      <td>49.04</td>\n",
       "      <td>44.51</td>\n",
       "      <td>37.70</td>\n",
       "    </tr>\n",
       "    <tr>\n",
       "      <th>13</th>\n",
       "      <td>CTXS.OQ</td>\n",
       "      <td>CITRIX SYSTEMS</td>\n",
       "      <td>Information Technology</td>\n",
       "      <td>3</td>\n",
       "      <td>47.14</td>\n",
       "      <td>54.81</td>\n",
       "      <td>55.54</td>\n",
       "      <td>54.17</td>\n",
       "      <td>51.93</td>\n",
       "    </tr>\n",
       "    <tr>\n",
       "      <th>14</th>\n",
       "      <td>AKAM.OQ</td>\n",
       "      <td>AKAMAI TECH INC</td>\n",
       "      <td>Information Technology</td>\n",
       "      <td>3</td>\n",
       "      <td>51.74</td>\n",
       "      <td>48.76</td>\n",
       "      <td>52.22</td>\n",
       "      <td>51.63</td>\n",
       "      <td>50.82</td>\n",
       "    </tr>\n",
       "    <tr>\n",
       "      <th>15</th>\n",
       "      <td>NKE.N</td>\n",
       "      <td>NIKE INC CL B</td>\n",
       "      <td>Consumer Discretionary</td>\n",
       "      <td>3</td>\n",
       "      <td>41.98</td>\n",
       "      <td>54.29</td>\n",
       "      <td>58.43</td>\n",
       "      <td>55.34</td>\n",
       "      <td>50.40</td>\n",
       "    </tr>\n",
       "    <tr>\n",
       "      <th>16</th>\n",
       "      <td>AMD.OQ</td>\n",
       "      <td>ADV MICRO DEVICE</td>\n",
       "      <td>Information Technology</td>\n",
       "      <td>4</td>\n",
       "      <td>42.29</td>\n",
       "      <td>91.07</td>\n",
       "      <td>66.27</td>\n",
       "      <td>66.39</td>\n",
       "      <td>65.36</td>\n",
       "    </tr>\n",
       "    <tr>\n",
       "      <th>17</th>\n",
       "      <td>MSFT.OQ</td>\n",
       "      <td>MICROSOFT CP</td>\n",
       "      <td>Information Technology</td>\n",
       "      <td>4</td>\n",
       "      <td>46.81</td>\n",
       "      <td>82.81</td>\n",
       "      <td>61.68</td>\n",
       "      <td>62.62</td>\n",
       "      <td>63.13</td>\n",
       "    </tr>\n",
       "    <tr>\n",
       "      <th>18</th>\n",
       "      <td>QCOM.OQ</td>\n",
       "      <td>QUALCOMM INC</td>\n",
       "      <td>Information Technology</td>\n",
       "      <td>4</td>\n",
       "      <td>49.76</td>\n",
       "      <td>77.02</td>\n",
       "      <td>64.65</td>\n",
       "      <td>64.27</td>\n",
       "      <td>63.02</td>\n",
       "    </tr>\n",
       "    <tr>\n",
       "      <th>19</th>\n",
       "      <td>NFLX.OQ</td>\n",
       "      <td>NETFLIX INC</td>\n",
       "      <td>Communication Services</td>\n",
       "      <td>4</td>\n",
       "      <td>45.69</td>\n",
       "      <td>78.75</td>\n",
       "      <td>68.47</td>\n",
       "      <td>66.59</td>\n",
       "      <td>62.95</td>\n",
       "    </tr>\n",
       "    <tr>\n",
       "      <th>20</th>\n",
       "      <td>NVDA.OQ</td>\n",
       "      <td>NVIDIA CORP</td>\n",
       "      <td>Information Technology</td>\n",
       "      <td>4</td>\n",
       "      <td>41.05</td>\n",
       "      <td>86.14</td>\n",
       "      <td>59.71</td>\n",
       "      <td>60.88</td>\n",
       "      <td>61.50</td>\n",
       "    </tr>\n",
       "    <tr>\n",
       "      <th>21</th>\n",
       "      <td>AMZN.OQ</td>\n",
       "      <td>AMAZON COM</td>\n",
       "      <td>Consumer Discretionary</td>\n",
       "      <td>4</td>\n",
       "      <td>42.70</td>\n",
       "      <td>68.15</td>\n",
       "      <td>66.77</td>\n",
       "      <td>63.37</td>\n",
       "      <td>57.63</td>\n",
       "    </tr>\n",
       "    <tr>\n",
       "      <th>22</th>\n",
       "      <td>ADBE.OQ</td>\n",
       "      <td>ADOBE INC</td>\n",
       "      <td>Information Technology</td>\n",
       "      <td>4</td>\n",
       "      <td>43.27</td>\n",
       "      <td>65.70</td>\n",
       "      <td>58.06</td>\n",
       "      <td>56.99</td>\n",
       "      <td>54.82</td>\n",
       "    </tr>\n",
       "    <tr>\n",
       "      <th>23</th>\n",
       "      <td>CRM.N</td>\n",
       "      <td>SALESFORCE COM</td>\n",
       "      <td>Information Technology</td>\n",
       "      <td>4</td>\n",
       "      <td>40.80</td>\n",
       "      <td>60.12</td>\n",
       "      <td>55.31</td>\n",
       "      <td>53.86</td>\n",
       "      <td>51.19</td>\n",
       "    </tr>\n",
       "    <tr>\n",
       "      <th>24</th>\n",
       "      <td>SYF.N</td>\n",
       "      <td>SYNCHRONY FIN</td>\n",
       "      <td>Financials</td>\n",
       "      <td>5</td>\n",
       "      <td>69.71</td>\n",
       "      <td>58.50</td>\n",
       "      <td>38.84</td>\n",
       "      <td>46.42</td>\n",
       "      <td>58.07</td>\n",
       "    </tr>\n",
       "    <tr>\n",
       "      <th>25</th>\n",
       "      <td>FB.OQ</td>\n",
       "      <td>FACEBOOK INC A</td>\n",
       "      <td>Communication Services</td>\n",
       "      <td>5</td>\n",
       "      <td>50.95</td>\n",
       "      <td>70.08</td>\n",
       "      <td>50.06</td>\n",
       "      <td>53.20</td>\n",
       "      <td>57.42</td>\n",
       "    </tr>\n",
       "    <tr>\n",
       "      <th>26</th>\n",
       "      <td>HD.N</td>\n",
       "      <td>HOME DEPOT INC</td>\n",
       "      <td>Consumer Discretionary</td>\n",
       "      <td>5</td>\n",
       "      <td>51.71</td>\n",
       "      <td>64.43</td>\n",
       "      <td>50.69</td>\n",
       "      <td>52.90</td>\n",
       "      <td>55.91</td>\n",
       "    </tr>\n",
       "    <tr>\n",
       "      <th>27</th>\n",
       "      <td>KMB.N</td>\n",
       "      <td>KIMBERLY-CLARK</td>\n",
       "      <td>Consumer Staples</td>\n",
       "      <td>5</td>\n",
       "      <td>54.58</td>\n",
       "      <td>53.81</td>\n",
       "      <td>43.08</td>\n",
       "      <td>46.42</td>\n",
       "      <td>51.44</td>\n",
       "    </tr>\n",
       "  </tbody>\n",
       "</table>\n",
       "</div>"
      ],
      "text/plain": [
       "   Instrument      Company Name                  Sector  Clusters  \\\n",
       "0        GS.N   GOLDM SACHS GRP              Financials         1   \n",
       "1       UNH.N   UNITEDHEALTH GP             Health Care         1   \n",
       "2      CIEN.N  CIENA CORPRATION  Information Technology         1   \n",
       "3       DFS.N   DISCOVER FINANC              Financials         1   \n",
       "4     JBHT.OQ    J.B. HUNT TRAN             Industrials         1   \n",
       "5       JPM.N    JPMORGAN CHASE              Financials         1   \n",
       "6      PEP.OQ       PEPSICO INC        Consumer Staples         1   \n",
       "7       MTZ.N        MASTEC INC             Industrials         1   \n",
       "8      SCHW.N   CHRLS SCHWB CRP              Financials         1   \n",
       "9       WMT.N       WALMART INC        Consumer Staples         1   \n",
       "10    AMGN.OQ             AMGEN             Health Care         1   \n",
       "11      IBM.N  INTL BUS MACHINE  Information Technology         1   \n",
       "12     ABBV.N            ABBVIE             Health Care         1   \n",
       "13    CTXS.OQ    CITRIX SYSTEMS  Information Technology         3   \n",
       "14    AKAM.OQ   AKAMAI TECH INC  Information Technology         3   \n",
       "15      NKE.N     NIKE INC CL B  Consumer Discretionary         3   \n",
       "16     AMD.OQ  ADV MICRO DEVICE  Information Technology         4   \n",
       "17    MSFT.OQ      MICROSOFT CP  Information Technology         4   \n",
       "18    QCOM.OQ      QUALCOMM INC  Information Technology         4   \n",
       "19    NFLX.OQ       NETFLIX INC  Communication Services         4   \n",
       "20    NVDA.OQ       NVIDIA CORP  Information Technology         4   \n",
       "21    AMZN.OQ        AMAZON COM  Consumer Discretionary         4   \n",
       "22    ADBE.OQ         ADOBE INC  Information Technology         4   \n",
       "23      CRM.N    SALESFORCE COM  Information Technology         4   \n",
       "24      SYF.N     SYNCHRONY FIN              Financials         5   \n",
       "25      FB.OQ    FACEBOOK INC A  Communication Services         5   \n",
       "26       HD.N    HOME DEPOT INC  Consumer Discretionary         5   \n",
       "27      KMB.N    KIMBERLY-CLARK        Consumer Staples         5   \n",
       "\n",
       "    Valuation Score  Fundamental Score  Momentum Score  Short Term Score  \\\n",
       "0             59.66              70.35           50.45             54.82   \n",
       "1             55.69              75.81           48.08             53.38   \n",
       "2             56.19              70.42           52.97             56.07   \n",
       "3             59.28              61.56           41.73             47.33   \n",
       "4             51.79              60.73           50.59             52.29   \n",
       "5             67.52              44.57           41.33             45.74   \n",
       "6             52.54              57.34           44.45             47.60   \n",
       "7             57.90              45.09           52.91             52.49   \n",
       "8             47.68              57.73           48.77             49.95   \n",
       "9             55.22              44.34           54.36             52.99   \n",
       "10            54.15              38.40           43.90             44.62   \n",
       "11            56.46              41.81           35.29             39.45   \n",
       "12            33.40              34.50           49.04             44.51   \n",
       "13            47.14              54.81           55.54             54.17   \n",
       "14            51.74              48.76           52.22             51.63   \n",
       "15            41.98              54.29           58.43             55.34   \n",
       "16            42.29              91.07           66.27             66.39   \n",
       "17            46.81              82.81           61.68             62.62   \n",
       "18            49.76              77.02           64.65             64.27   \n",
       "19            45.69              78.75           68.47             66.59   \n",
       "20            41.05              86.14           59.71             60.88   \n",
       "21            42.70              68.15           66.77             63.37   \n",
       "22            43.27              65.70           58.06             56.99   \n",
       "23            40.80              60.12           55.31             53.86   \n",
       "24            69.71              58.50           38.84             46.42   \n",
       "25            50.95              70.08           50.06             53.20   \n",
       "26            51.71              64.43           50.69             52.90   \n",
       "27            54.58              53.81           43.08             46.42   \n",
       "\n",
       "    Long Term Score  \n",
       "0             61.10  \n",
       "1             60.83  \n",
       "2             60.36  \n",
       "3             55.69  \n",
       "4             54.62  \n",
       "5             52.94  \n",
       "6             52.20  \n",
       "7             52.17  \n",
       "8             51.47  \n",
       "9             51.20  \n",
       "10            46.08  \n",
       "11            46.04  \n",
       "12            37.70  \n",
       "13            51.93  \n",
       "14            50.82  \n",
       "15            50.40  \n",
       "16            65.36  \n",
       "17            63.13  \n",
       "18            63.02  \n",
       "19            62.95  \n",
       "20            61.50  \n",
       "21            57.63  \n",
       "22            54.82  \n",
       "23            51.19  \n",
       "24            58.07  \n",
       "25            57.42  \n",
       "26            55.91  \n",
       "27            51.44  "
      ]
     },
     "execution_count": 73,
     "metadata": {},
     "output_type": "execute_result"
    }
   ],
   "source": [
    "run_stock_scores(k,z)"
   ]
  },
  {
   "cell_type": "code",
   "execution_count": null,
   "metadata": {},
   "outputs": [],
   "source": []
  }
 ],
 "metadata": {
  "kernelspec": {
   "display_name": "Python 3",
   "language": "python",
   "name": "python3"
  },
  "language_info": {
   "codemirror_mode": {
    "name": "ipython",
    "version": 3
   },
   "file_extension": ".py",
   "mimetype": "text/x-python",
   "name": "python",
   "nbconvert_exporter": "python",
   "pygments_lexer": "ipython3",
   "version": "3.7.9"
  }
 },
 "nbformat": 4,
 "nbformat_minor": 4
}
