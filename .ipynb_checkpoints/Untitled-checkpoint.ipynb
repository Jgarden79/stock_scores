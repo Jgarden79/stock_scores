{
 "cells": [
  {
   "cell_type": "code",
   "execution_count": 4,
   "metadata": {},
   "outputs": [
    {
     "data": {
      "text/html": [
       "        <script type=\"text/javascript\">\n",
       "        window.PlotlyConfig = {MathJaxConfig: 'local'};\n",
       "        if (window.MathJax) {MathJax.Hub.Config({SVG: {font: \"STIX-Web\"}});}\n",
       "        if (typeof require !== 'undefined') {\n",
       "        require.undef(\"plotly\");\n",
       "        requirejs.config({\n",
       "            paths: {\n",
       "                'plotly': ['https://cdn.plot.ly/plotly-latest.min']\n",
       "            }\n",
       "        });\n",
       "        require(['plotly'], function(Plotly) {\n",
       "            window._Plotly = Plotly;\n",
       "        });\n",
       "        }\n",
       "        </script>\n",
       "        "
      ]
     },
     "metadata": {},
     "output_type": "display_data"
    }
   ],
   "source": [
    "import pandas as pd\n",
    "import numpy as np\n",
    "import eikon as ek\n",
    "import sys\n",
    "import config\n",
    "ek.set_app_key(config.eikon_key)\n",
    "import DatastreamDSWS as DSWS\n",
    "ds = DSWS.Datastream(username = 'JGarden1@lidoadvisors.com', password= 'Welcome2')\n",
    "from datetime import timedelta\n",
    "import datetime\n",
    "from scipy.optimize import minimize\n",
    "from arch import arch_model\n",
    "from tqdm import tqdm\n",
    "import warnings\n",
    "warnings.filterwarnings(\"ignore\")\n",
    "import cufflinks as cf\n",
    "import configparser as cp\n",
    "cf.set_config_file(offline = True)\n",
    "from sklearn.cluster import AgglomerativeClustering\n",
    "import matplotlib.pyplot as plt\n",
    "import plotly.express as px\n",
    "import plotly.graph_objects as go\n",
    "import chart_studio\n",
    "from chart_studio.plotly import plot, iplot\n",
    "import chart_studio.plotly as py\n",
    "import random\n",
    "from sklearn.preprocessing import RobustScaler, MinMaxScaler\n",
    "from scipy.stats.mstats import winsorize\n",
    "from scipy import stats\n",
    "ek.set_timeout(60)\n",
    "import time\n",
    "import re"
   ]
  },
  {
   "cell_type": "code",
   "execution_count": 5,
   "metadata": {},
   "outputs": [],
   "source": [
    "def outlier_removal(df):\n",
    "    features = list(df.columns)\n",
    "\n",
    "\n",
    "    for f in features:\n",
    "        if df[f].dtype == 'float64':\n",
    "            x = df[f]\n",
    "            q1 = x.quantile(0.25)\n",
    "            q3 = x.quantile(0.75)\n",
    "            iqr = q3 - q1\n",
    "            top = q3 + (1.5*iqr)\n",
    "            bot = q1 - (1.5 * iqr)\n",
    "            s_out = x.where(x>bot, np.nan)\n",
    "            s_out = s_out.where(s_out<top, np.nan)\n",
    "            df[f] = list(s_out)\n",
    "            \n",
    "\n",
    "            \n",
    "    df_2 = df\n",
    "\n",
    "    \n",
    "    return df_2\n",
    "    \n",
    "    "
   ]
  },
  {
   "cell_type": "code",
   "execution_count": null,
   "metadata": {},
   "outputs": [],
   "source": []
  },
  {
   "cell_type": "code",
   "execution_count": 6,
   "metadata": {},
   "outputs": [],
   "source": [
    "def get_R3K_stocks():\n",
    "    '''This function imports the Symbols (RICS) for all stocks in the iShares Russell 3K ETF do not run w/o a subscription to refinitive.'''\n",
    "    hold = ek.get_data('IWV', fields = [ek.TR_Field('TR.ETPConstituentRIC',params={'SDate':'2021-01-07'})])[0]\n",
    "    hold = hold[hold['Constituent RIC'] != 'GOOG.OQ']\n",
    "    rics = [x for x in hold['Constituent RIC']]\n",
    "    if 'GOOG.OQ' in rics == True:\n",
    "        rics.remove('GOOG.OQ')\n",
    "    return rics"
   ]
  },
  {
   "cell_type": "code",
   "execution_count": 7,
   "metadata": {},
   "outputs": [],
   "source": [
    "def API_req(rus, date):\n",
    "    '''This function calls all the features for each stock at a given date, do not run w/o a subscription to refinitive. '''\n",
    "    try:\n",
    "        valuation_fields = [ek.TR_Field('TR.GICSSector'),ek.TR_Field('TR.IncomeAvailtoComExcl', params={'Period':'LTM', 'SDate': date}), ek.TR_Field('TR.EBITDA',  params={'Period':'LTM', 'SDate': date}),\n",
    "                             ek.TR_Field('TR.EBIT',  params={'Period':'LTM', 'SDate': date}), ek.TR_Field('TR.TotalEquity', params = {'Period':'FY0','SDate': date}),\n",
    "                            ek.TR_Field('TR.CompanyMarketCap', params = {'SDate': date}), ek.TR_Field('TR.EV', params = {'SDate': date})]\n",
    "        valuation_dat = ek.get_data(rus, fields=valuation_fields)[0]\n",
    "        valuation_dat.to_csv('RUT3K_VALUATION_{}.csv'.format(date))\n",
    "        time.sleep(10)\n",
    "        \n",
    "        fundam_fields = [ek.TR_Field('TR.GICSSector'), ek.TR_Field('TR.ROICMean', params={'Period':'FY2', 'SDate': date}), ek.TR_Field('TR.WACC'), ek.TR_Field('TR.ROEMean',params={'Period':'FY2', 'SDate': date}),\n",
    "                     ek.TR_Field('TR.WACCCostofEquity', params={'SDate': date}), ek.TR_Field('TR.LTGMean', params={'SDate': date}), ek.TR_Field('TR.TtlDebtToTtlCapitalPct', params={'Period':'FY0', 'SDate': date})]\n",
    "        fundamental_dat = ek.get_data(rus, fields=fundam_fields)[0] \n",
    "        fundamental_dat.to_csv('RUT3K_FUNDAM_{}.csv'.format(date))\n",
    "        time.sleep(10)\n",
    "        mom_fields = [ek.TR_Field('TR.GICSSector'), ek.TR_Field('TR.TotalReturn2YTD', params={'SDate': date}), ek.TR_Field('TR.TotalReturn6Mo', params={'SDate': date}), \n",
    "                      ek.TR_Field('TR.TotalReturn52Wk', params={'SDate': date}), ek.TR_Field('TR.WACCBeta',params={'SDate': date})]\n",
    "        momentum = ek.get_data(rus, fields=mom_fields)[0]\n",
    "        spy_rets = ek.get_data('SPY', fields=mom_fields)[0]\n",
    "        momentum.to_csv('RUT3K_MOM_{}.csv'.format(date))\n",
    "        spy_rets.to_csv('INDEX_MOM_{}.csv'.format(date))\n",
    "    except:\n",
    "        time.sleep(10)\n",
    "        valuation_fields = [ek.TR_Field('TR.GICSSector'),ek.TR_Field('TR.NetProfitMean', params={'Period':'FY1', 'SDate': date}), ek.TR_Field('TR.EBITDAReportedMean',  params={'Period':'FY1', 'SDate': date}),\n",
    "                            ek.TR_Field('TR.EBITMean', params = {'Period':'FY1', 'SDate': date}), ek.TR_Field('TR.TotalEquity', params = {'Period':'FY0','SDate': date}),\n",
    "                            ek.TR_Field('TR.CompanyMarketCap', params = {'SDate': date}), ek.TR_Field('TR.EV', params = {'SDate': date})]\n",
    "        valuation_dat = ek.get_data(rus, fields=valuation_fields)[0]\n",
    "        valuation_dat.to_csv('RUT3K_VALUATION_{}.csv'.format(date))\n",
    "        time.sleep(10)\n",
    "        \n",
    "        fundam_fields = [ek.TR_Field('TR.GICSSector'), ek.TR_Field('TR.ROICMean', params={'Period':'FY2', 'SDate': date}), ek.TR_Field('TR.WACC'), ek.TR_Field('TR.ROEMean',params={'Period':'FY2', 'SDate': date}),\n",
    "                     ek.TR_Field('TR.WACCCostofEquity', params={'SDate': date}), ek.TR_Field('TR.LTGMean', params={'SDate': date}), ek.TR_Field('TR.TtlDebtToTtlCapitalPct', params={'Period':'FY0', 'SDate': date})]\n",
    "        fundamental_dat = ek.get_data(rus, fields=fundam_fields)[0] \n",
    "        fundamental_dat.to_csv('RUT3K_FUNDAM_{}.csv'.format(date))\n",
    "        time.sleep(10)\n",
    "        mom_fields = [ek.TR_Field('TR.GICSSector'), ek.TR_Field('TR.TotalReturn2YTD', params={'SDate': date}), ek.TR_Field('TR.TotalReturn6Mo', params={'SDate': date}), \n",
    "                      ek.TR_Field('TR.TotalReturn52Wk', params={'SDate': date}), ek.TR_Field('TR.WACCBeta',params={'SDate': date})]\n",
    "        momentum = ek.get_data(rus, fields=mom_fields)[0]\n",
    "        spy_rets = ek.get_data('SPY', fields=mom_fields)[0]\n",
    "        momentum.to_csv('RUT3K_MOM_{}.csv'.format(date))\n",
    "        spy_rets.to_csv('INDEX_MOM_{}.csv'.format(date))\n",
    "    \n",
    "    return (valuation_dat, fundamental_dat, mom_fields, spy_rets)"
   ]
  },
  {
   "cell_type": "code",
   "execution_count": 8,
   "metadata": {},
   "outputs": [],
   "source": [
    "def valuation_dat(date):\n",
    "    valuation_dat = pd.read_csv('RUT3K_VALUATION_{}.csv'.format(date))\n",
    "    valuation_dat['Earnings_Yield'] = valuation_dat['Income Avail to Cmn Shareholders Excl Extra']/valuation_dat['Company Market Cap']\n",
    "    valuation_dat['Book_Market'] = valuation_dat['Total Equity']/valuation_dat['Company Market Cap']\n",
    "    valuation_dat['EBITDA_EV'] = valuation_dat['EBITDA']/valuation_dat['Enterprise Value (Daily Time Series)']\n",
    "    valuation_dat['EBIT_EV'] = valuation_dat['EBIT']/valuation_dat['Enterprise Value (Daily Time Series)']\n",
    "    \n",
    "    sectors = list(valuation_dat['GICS Sector Name'].drop_duplicates())\n",
    "    \n",
    "    valuation = pd.DataFrame()\n",
    "    for s in sectors:\n",
    "        x =  valuation_dat[valuation_dat['GICS Sector Name']==s]\n",
    "        meds = x.median()\n",
    "        x = x.fillna(meds)\n",
    "        valuation = pd.concat([valuation, x])\n",
    "    \n",
    "    \n",
    "    #valuation[['Earnings_Yield', 'Book_Market', 'EBITDA_EV', 'EBIT_EV']] = win_df(valuation[['Earnings_Yield', 'Book_Market', 'EBITDA_EV', 'EBIT_EV']])\n",
    "    \n",
    "    valuation_dat_mkt = outlier_removal(valuation)\n",
    "    valuation_dat_mkt = valuation_dat_mkt.filter(['Instrument', 'GICS Sector Name', 'Earnings_Yield', 'Book_Market', 'EBITDA_EV', 'EBIT_EV'])\n",
    "    valuation_dat_mkt\n",
    "    min_max = MinMaxScaler()\n",
    "    valuation_dat_mkt[['Earnings_Yield', 'Book_Market', 'EBITDA_EV', 'EBIT_EV']] = min_max.fit_transform(valuation_dat_mkt[['Earnings_Yield', 'Book_Market', 'EBITDA_EV', 'EBIT_EV']])\n",
    "    valuation_dat_mkt['Valuation Composite'] = valuation_dat_mkt.mean(axis = 1)\n",
    "    valuation_dat_mkt[['Valuation Composite']] = min_max.fit_transform(valuation_dat_mkt[['Valuation Composite']])\n",
    "    val_comp = valuation_dat_mkt['Valuation Composite']\n",
    "    valuation_dat_mkt = valuation_dat_mkt.drop('Valuation Composite', axis = 1)\n",
    "    \n",
    "    return valuation_dat_mkt, val_comp"
   ]
  },
  {
   "cell_type": "code",
   "execution_count": 9,
   "metadata": {},
   "outputs": [],
   "source": [
    "def fundamental_dat(date):\n",
    "    fundamental_dat = pd.read_csv('RUT3K_FUNDAM_{}.csv'.format(date))\n",
    "    fundamental_1 = fundamental_dat[fundamental_dat['Return On Invested Capital - Mean'].isnull()]\n",
    "    fundamental_1['Spread'] = fundamental_1['Return On Equity - Mean'] - fundamental_1['WACC Cost of Equity, (%)']\n",
    "    fundamental_2 = fundamental_dat[fundamental_dat['Return On Invested Capital - Mean'].notnull()]\n",
    "    fundamental_2['Spread'] = fundamental_2['Return On Invested Capital - Mean'] - fundamental_2['Weighted Average Cost of Capital, (%)']\n",
    "    fundamental_score = pd.concat([fundamental_2, fundamental_1])\n",
    "    fundamental_score['Equity To Total Cap'] = 100 - fundamental_score['Total Debt to Total Capital, Percent']\n",
    "    \n",
    "    sectors = list(fundamental_score['GICS Sector Name'].drop_duplicates())\n",
    "    \n",
    "    fund_df= pd.DataFrame()\n",
    "    for s in sectors:\n",
    "        x =  fundamental_score[fundamental_score['GICS Sector Name']==s]\n",
    "        meds = x.median()\n",
    "        x = x.fillna(meds)\n",
    "        fund_df= pd.concat([fund_df, x])\n",
    "    \n",
    "    #fund_df[['Return On Invested Capital - Mean', 'Weighted Average Cost of Capital, (%)', 'Return On Equity - Mean', \n",
    "     #                  'WACC Cost of Equity, (%)', 'Long Term Growth - Mean', 'Total Debt to Total Capital, Percent', 'Spread', \n",
    "      #                 'Equity To Total Cap']] = win_df(fund_df[['Return On Invested Capital - Mean', 'Weighted Average Cost of Capital, (%)', 'Return On Equity - Mean', \n",
    "       #                'WACC Cost of Equity, (%)', 'Long Term Growth - Mean', 'Total Debt to Total Capital, Percent', 'Spread', \n",
    "        #               'Equity To Total Cap']])\n",
    "    \n",
    "    fund_df = outlier_removal(fund_df)\n",
    "    \n",
    "    min_max = MinMaxScaler()\n",
    "    fund_df[['Return On Invested Capital - Mean', 'Weighted Average Cost of Capital, (%)', 'Return On Equity - Mean', \n",
    "                       'WACC Cost of Equity, (%)', 'Long Term Growth - Mean', 'Total Debt to Total Capital, Percent', 'Spread', \n",
    "                       'Equity To Total Cap']] = min_max.fit_transform(fund_df[['Return On Invested Capital - Mean', 'Weighted Average Cost of Capital, (%)', 'Return On Equity - Mean', \n",
    "                       'WACC Cost of Equity, (%)', 'Long Term Growth - Mean', 'Total Debt to Total Capital, Percent', 'Spread', \n",
    "                       'Equity To Total Cap']])\n",
    "\n",
    "        \n",
    "    \n",
    "    fund_df['FUND_Composite'] = fund_df[['Spread', 'Long Term Growth - Mean', 'Equity To Total Cap']].sum(axis = 1)\n",
    "    min_max = MinMaxScaler()\n",
    "    fund_df[['FUND_Composite']]  = min_max.fit_transform(fund_df[['FUND_Composite']])\n",
    "    fund_comp = fund_df[['FUND_Composite']] \n",
    "    fundamental_score = fund_df.drop('FUND_Composite', axis = 1)\n",
    "    \n",
    "    return fundamental_score, fund_comp"
   ]
  },
  {
   "cell_type": "code",
   "execution_count": 10,
   "metadata": {},
   "outputs": [],
   "source": [
    "\n",
    "def momentum_dat(date):\n",
    "    \n",
    "    momentum = pd.read_csv('RUT3K_MOM_{}.csv'.format(date))\n",
    "    spy_rets = pd.read_csv('INDEX_MOM_{}.csv'.format(date))\n",
    "    mom_1 = momentum[momentum['Beta'].notnull()]\n",
    "    mom_2 = momentum[momentum['Beta'].isnull()]\n",
    "    mom_1['24_month'] = mom_1['2 YTD Total Return'] - (spy_rets['2 YTD Total Return'].iloc[0] * mom_1['Beta'])\n",
    "    mom_1['6_month'] = mom_1['6 Month Total Return'] - (spy_rets['6 Month Total Return'].iloc[0] * mom_1['Beta'])\n",
    "    mom_1['12_month'] = mom_1['52 Week Total Return'] - (spy_rets['52 Week Total Return'].iloc[0] * mom_1['Beta'])\n",
    "    mom_2['24_month'] = mom_2['2 YTD Total Return'] - spy_rets['2 YTD Total Return'].iloc[0]\n",
    "    mom_2['6_month'] = mom_2['6 Month Total Return'] - spy_rets['6 Month Total Return'].iloc[0]\n",
    "    mom_2['12_month'] = mom_2['52 Week Total Return'] - spy_rets['52 Week Total Return'].iloc[0]    \n",
    "    momentum = pd.concat([mom_1, mom_2])\n",
    "    momentum = momentum.filter(['Instrument', 'GICS Sector Name', '24_month', '6_month', '12_month'])\n",
    "    \n",
    "    sectors = list(momentum['GICS Sector Name'].drop_duplicates())\n",
    "    \n",
    "    mom_df= pd.DataFrame()\n",
    "    for s in sectors:\n",
    "        x =  momentum[momentum['GICS Sector Name']==s]\n",
    "        meds = x.median()\n",
    "        x = x.fillna(meds)\n",
    "        mom_df= pd.concat([mom_df, x])\n",
    "        \n",
    "    #mom_df[['3_month', '6_month', '12_month']] = win_df(mom_df[['3_month', '6_month', '12_month']])\n",
    "    mom_df = outlier_removal(mom_df)\n",
    "    momentum = mom_df\n",
    "    min_max = MinMaxScaler()  \n",
    "    momentum[['24_month', '6_month', '12_month']] = min_max.fit_transform(momentum[['24_month', '6_month', '12_month']])\n",
    "    momentum['MOM_Composite'] = momentum.sum(axis = 1)\n",
    "    min_max = MinMaxScaler()    \n",
    "    momentum[['MOM_Composite']]= min_max.fit_transform(momentum[['MOM_Composite']])\n",
    "    mom_comp = momentum['MOM_Composite']\n",
    "    momentum = momentum.drop('MOM_Composite', axis = 1)\n",
    "    \n",
    "    return momentum, mom_comp"
   ]
  },
  {
   "cell_type": "code",
   "execution_count": 11,
   "metadata": {},
   "outputs": [],
   "source": [
    "\n",
    "def feature_prep(date):\n",
    "    val, val_comp = valuation_dat(date)\n",
    "    fund, fund_comp = fundamental_dat(date)\n",
    "    mom, mom_comp = momentum_dat(date)\n",
    "    val = val.set_index('Instrument').dropna()\n",
    "    fund = fund.set_index('Instrument')\n",
    "    mom = mom.set_index('Instrument')\n",
    "    \n",
    "    fund = fund.filter(['Return On Invested Capital - Mean', 'Long Term Growth - Mean','Spread',])\n",
    "    mom = mom.filter(['24_month', '6_month', '12_month'])\n",
    "    val = val.join(fund, on  = 'Instrument')\n",
    "    val = val.join(mom, on  = 'Instrument')\n",
    "    sectors = list(val['GICS Sector Name'].drop_duplicates())\n",
    "    \n",
    "    features = pd.DataFrame()\n",
    "    for s in sectors:\n",
    "        x = val[val['GICS Sector Name']==s]\n",
    "        meds = x.median()\n",
    "        x = x.fillna(meds)\n",
    "        features = pd.concat([features, x])\n",
    "        \n",
    "    features = features.fillna(0)\n",
    "    sectors = features['GICS Sector Name']\n",
    "    features = features.drop('GICS Sector Name', axis = 1)\n",
    "\n",
    "\n",
    "    \n",
    "    #comps = val_comp.to_frame(name = 'Value')\n",
    "    #comps = comps.join(mom_comp)\n",
    "    #comps = comps.join(fund_comp)\n",
    "    #comps['Instrument'] = list(features.index)\n",
    "    \n",
    "    return features, sectors"
   ]
  },
  {
   "cell_type": "code",
   "execution_count": 12,
   "metadata": {},
   "outputs": [],
   "source": [
    "def aglom(date):\n",
    "    rus = get_R3K_stocks()\n",
    "    d = API_req(rus, date)\n",
    "    X, sectors= feature_prep(date)\n",
    "    clstr =  AgglomerativeClustering(n_clusters = 5)\n",
    "    clstr_labs = clstr.fit(X)\n",
    "    labs =  clstr.labels_\n",
    "\n",
    "    \n",
    "    X['Clusters'] = labs\n",
    "    X['Sector'] = sectors\n",
    "    \n",
    "    return X"
   ]
  },
  {
   "cell_type": "code",
   "execution_count": 122,
   "metadata": {},
   "outputs": [],
   "source": [
    "def group_scores(results):\n",
    "    k = results\n",
    "    rics = list(k.index)\n",
    "    names = ek.get_data(rics, fields = 'CF_NAME')[0]\n",
    "    k['Company Name'] = list(names['CF_NAME'])\n",
    "    k['Valuation Score'] = k[['Earnings_Yield', 'Book_Market', 'EBITDA_EV', 'EBIT_EV']].mean(axis = 1)\n",
    "    k['Fundamental Score'] = k[['Return On Invested Capital - Mean', 'Long Term Growth - Mean', 'Spread']].mean(axis = 1)\n",
    "    k['Momentum Score'] = (k['24_month']*0.7) + (k['6_month']*0.05) + (k['12_month']*0.2)\n",
    "    k['Short Term Score'] = (k['Momentum Score'] *0.7) + (0.15 * k['Valuation Score']) + (0.15 * k['Fundamental Score']) \n",
    "    k['Long Term Score'] = (k['Momentum Score'] *0.25) + (0.4 * k['Valuation Score']) + (0.35 * k['Fundamental Score'])\n",
    "    k = k.filter(['Company Name', 'Sector','Clusters', 'Valuation Score','Fundamental Score','Momentum Score','Short Term Score', 'Long Term Score'])\n",
    "    k[['Valuation Score','Fundamental Score','Momentum Score','Short Term Score', 'Long Term Score']]= round(k[['Valuation Score','Fundamental Score','Momentum Score','Short Term Score', 'Long Term Score']],4)*100\n",
    "    z = k.groupby('Clusters').mean()\n",
    "   \n",
    "    \n",
    "    \n",
    "\n",
    "    \n",
    "    return k, z"
   ]
  },
  {
   "cell_type": "code",
   "execution_count": 123,
   "metadata": {},
   "outputs": [],
   "source": [
    "def run_Aglom(date):\n",
    "    results = aglom(date)\n",
    "    stocks, group = group_scores(results)\n",
    "    stocks.to_csv('{}_stock_scores.csv'.format(date))\n",
    "    group.to_csv('{}_aggregates.csv'.format(date))\n",
    "    return stocks, group"
   ]
  },
  {
   "cell_type": "code",
   "execution_count": 124,
   "metadata": {},
   "outputs": [],
   "source": [
    "date = '2021-02-09'\n",
    "k, z = run_Aglom(date)"
   ]
  },
  {
   "cell_type": "code",
   "execution_count": 149,
   "metadata": {},
   "outputs": [],
   "source": [
    "def run_stock_scores(stocks, group):\n",
    "    port = input('File Path:')\n",
    "    port = pd.read_csv(port)\n",
    "    stock_lst = list(port['Symbol'])\n",
    "    rtk = list(stocks.index)\n",
    "    x= [re.match('^([^.]+)', i)[0] for i in rtk]\n",
    "    stocks['symbol']=x \n",
    "    client_df = pd.DataFrame()\n",
    "    for i in stock_lst:\n",
    "        line = stocks[stocks['symbol']==i]\n",
    "        client_df = pd.concat([client_df, line])\n",
    "    client_df = client_df.drop('symbol', axis = 1)\n",
    "    client_df = client_df.sort_values(['Clusters', 'Long Term Score'], ascending= [True, False])\n",
    "    client_df = client_df.reset_index()\n",
    "    \n",
    "    \n",
    "    fig = go.Figure(data=[go.Table(\n",
    "    header=dict(values=list(client_df.columns),\n",
    "                fill_color='#003C5A',\n",
    "                font_color = 'white',\n",
    "                line =dict(color = 'black'),\n",
    "                align='left'),\n",
    "    cells=dict(values=[client_df[i] for i in list(client_df.columns)],\n",
    "               fill_color='white',\n",
    "               align=['left', 'left', 'left', 'center', 'center', 'center', 'center', 'center', 'center'],\n",
    "               line =dict(color = 'black'),\n",
    "               format = [[None],[None],[None],[None], ['.2f'], ['.2f'],['.2f'], ['.2f'], ['.2f']]))\n",
    "                         ])\n",
    "\n",
    "    fig.show()\n",
    "        \n",
    "        \n",
    "    \n",
    "    \n",
    "    return client_df"
   ]
  },
  {
   "cell_type": "code",
   "execution_count": 150,
   "metadata": {},
   "outputs": [
    {
     "name": "stdin",
     "output_type": "stream",
     "text": [
      "File Path: test_1.csv\n"
     ]
    },
    {
     "data": {
      "application/vnd.plotly.v1+json": {
       "config": {
        "plotlyServerURL": "https://plot.ly"
       },
       "data": [
        {
         "cells": {
          "align": [
           "left",
           "left",
           "left",
           "center",
           "center",
           "center",
           "center",
           "center",
           "center"
          ],
          "fill": {
           "color": "white"
          },
          "format": [
           [
            null
           ],
           [
            null
           ],
           [
            null
           ],
           [
            null
           ],
           [
            ".2f"
           ],
           [
            ".2f"
           ],
           [
            ".2f"
           ],
           [
            ".2f"
           ],
           [
            ".2f"
           ]
          ],
          "line": {
           "color": "black"
          },
          "values": [
           [
            "IBM.N",
            "AMGN.OQ",
            "ABBV.N",
            "UNH.N",
            "CIEN.N",
            "FB.OQ",
            "AKAM.OQ",
            "HD.N",
            "DFS.N",
            "JBHT.OQ",
            "PEP.OQ",
            "WMT.N",
            "SCHW.N",
            "KMB.N",
            "NVDA.OQ",
            "AMD.OQ",
            "QCOM.OQ",
            "MSFT.OQ",
            "NFLX.OQ",
            "ADBE.OQ",
            "GS.N",
            "AMZN.OQ",
            "NKE.N",
            "CTXS.OQ",
            "CRM.N",
            "SYF.N",
            "JPM.N",
            "MTZ.N"
           ],
           [
            "INTL BUS MACHINE",
            "AMGEN",
            "ABBVIE",
            "UNITEDHEALTH GP",
            "CIENA CORPRATION",
            "FACEBOOK INC A",
            "AKAMAI TECH INC",
            "HOME DEPOT INC",
            "DISCOVER FINANC",
            "J.B. HUNT TRAN",
            "PEPSICO INC",
            "WALMART INC",
            "CHRLS SCHWB CRP",
            "KIMBERLY-CLARK",
            "NVIDIA CORP",
            "ADV MICRO DEVICE",
            "QUALCOMM INC",
            "MICROSOFT CP",
            "NETFLIX INC",
            "ADOBE INC",
            "GOLDM SACHS GRP",
            "AMAZON COM",
            "NIKE INC CL B",
            "CITRIX SYSTEMS",
            "SALESFORCE COM",
            "SYNCHRONY FIN",
            "JPMORGAN CHASE",
            "MASTEC INC"
           ],
           [
            "Information Technology",
            "Health Care",
            "Health Care",
            "Health Care",
            "Information Technology",
            "Communication Services",
            "Information Technology",
            "Consumer Discretionary",
            "Financials",
            "Industrials",
            "Consumer Staples",
            "Consumer Staples",
            "Financials",
            "Consumer Staples",
            "Information Technology",
            "Information Technology",
            "Information Technology",
            "Information Technology",
            "Communication Services",
            "Information Technology",
            "Financials",
            "Consumer Discretionary",
            "Consumer Discretionary",
            "Information Technology",
            "Information Technology",
            "Financials",
            "Financials",
            "Industrials"
           ],
           [
            0,
            0,
            0,
            1,
            1,
            1,
            1,
            1,
            1,
            1,
            1,
            1,
            1,
            1,
            2,
            2,
            2,
            2,
            2,
            2,
            2,
            2,
            2,
            2,
            2,
            3,
            3,
            4
           ],
           [
            56.52,
            54.21,
            33.36,
            55.92,
            56.13,
            51.11,
            50.39,
            51.83,
            59.34,
            51.68000000000001,
            50.33,
            55.059999999999995,
            47.61,
            54.66,
            41.18,
            42.36,
            49.72,
            46.78,
            45.78,
            43.230000000000004,
            59.919999999999995,
            42.68,
            42.01,
            47.22,
            40.8,
            70.15,
            67.5,
            57.99999999999999
           ],
           [
            42.620000000000005,
            39.21,
            35.38,
            75.51,
            70.13000000000001,
            68.49,
            62.17,
            63.94,
            61.050000000000004,
            60.589999999999996,
            57.940000000000005,
            45.08,
            57.50999999999999,
            53.839999999999996,
            85.37,
            90.01,
            76.57000000000001,
            82.11,
            77.09,
            83.85000000000001,
            69.86,
            67.66,
            72.63,
            55.54,
            60.699999999999996,
            57.830000000000005,
            44.5,
            45.65
           ],
           [
            34.39,
            42.59,
            49.07,
            47.19,
            52.480000000000004,
            48.92,
            57.69,
            49.49,
            40.46,
            50.59,
            44.2,
            54.33,
            48.39,
            42.1,
            89.32,
            64.21,
            64.39,
            61.23,
            67.53,
            57.9,
            48.949999999999996,
            66.57,
            57.86,
            54.56999999999999,
            54.43,
            36.97,
            40.37,
            52.18000000000001
           ],
           [
            38.940000000000005,
            43.830000000000005,
            44.66,
            52.75,
            55.669999999999995,
            52.18000000000001,
            57.269999999999996,
            52.01,
            46.379999999999995,
            52.25,
            47.18,
            53.05,
            49.64,
            45.75,
            81.51,
            64.8,
            64.01,
            62.19,
            65.7,
            59.589999999999996,
            53.73,
            63.14999999999999,
            57.699999999999996,
            53.61,
            53.33,
            45.08,
            45.06,
            52.080000000000005
           ],
           [
            46.12,
            46.050000000000004,
            38,
            60.589999999999996,
            60.12,
            56.64,
            56.34,
            55.489999999999995,
            55.22,
            54.52,
            51.470000000000006,
            51.38,
            51.27,
            51.23,
            68.67999999999999,
            64.5,
            62.78,
            62.760000000000005,
            62.18,
            61.11,
            60.660000000000004,
            57.4,
            56.69,
            51.970000000000006,
            51.17,
            57.54,
            52.669999999999995,
            52.22
           ]
          ]
         },
         "header": {
          "align": "left",
          "fill": {
           "color": "#003C5A"
          },
          "font": {
           "color": "white"
          },
          "line": {
           "color": "black"
          },
          "values": [
           "Instrument",
           "Company Name",
           "Sector",
           "Clusters",
           "Valuation Score",
           "Fundamental Score",
           "Momentum Score",
           "Short Term Score",
           "Long Term Score"
          ]
         },
         "type": "table"
        }
       ],
       "layout": {
        "autosize": true,
        "template": {
         "data": {
          "bar": [
           {
            "error_x": {
             "color": "#2a3f5f"
            },
            "error_y": {
             "color": "#2a3f5f"
            },
            "marker": {
             "line": {
              "color": "#E5ECF6",
              "width": 0.5
             }
            },
            "type": "bar"
           }
          ],
          "barpolar": [
           {
            "marker": {
             "line": {
              "color": "#E5ECF6",
              "width": 0.5
             }
            },
            "type": "barpolar"
           }
          ],
          "carpet": [
           {
            "aaxis": {
             "endlinecolor": "#2a3f5f",
             "gridcolor": "white",
             "linecolor": "white",
             "minorgridcolor": "white",
             "startlinecolor": "#2a3f5f"
            },
            "baxis": {
             "endlinecolor": "#2a3f5f",
             "gridcolor": "white",
             "linecolor": "white",
             "minorgridcolor": "white",
             "startlinecolor": "#2a3f5f"
            },
            "type": "carpet"
           }
          ],
          "choropleth": [
           {
            "colorbar": {
             "outlinewidth": 0,
             "ticks": ""
            },
            "type": "choropleth"
           }
          ],
          "contour": [
           {
            "colorbar": {
             "outlinewidth": 0,
             "ticks": ""
            },
            "colorscale": [
             [
              0,
              "#0d0887"
             ],
             [
              0.1111111111111111,
              "#46039f"
             ],
             [
              0.2222222222222222,
              "#7201a8"
             ],
             [
              0.3333333333333333,
              "#9c179e"
             ],
             [
              0.4444444444444444,
              "#bd3786"
             ],
             [
              0.5555555555555556,
              "#d8576b"
             ],
             [
              0.6666666666666666,
              "#ed7953"
             ],
             [
              0.7777777777777778,
              "#fb9f3a"
             ],
             [
              0.8888888888888888,
              "#fdca26"
             ],
             [
              1,
              "#f0f921"
             ]
            ],
            "type": "contour"
           }
          ],
          "contourcarpet": [
           {
            "colorbar": {
             "outlinewidth": 0,
             "ticks": ""
            },
            "type": "contourcarpet"
           }
          ],
          "heatmap": [
           {
            "colorbar": {
             "outlinewidth": 0,
             "ticks": ""
            },
            "colorscale": [
             [
              0,
              "#0d0887"
             ],
             [
              0.1111111111111111,
              "#46039f"
             ],
             [
              0.2222222222222222,
              "#7201a8"
             ],
             [
              0.3333333333333333,
              "#9c179e"
             ],
             [
              0.4444444444444444,
              "#bd3786"
             ],
             [
              0.5555555555555556,
              "#d8576b"
             ],
             [
              0.6666666666666666,
              "#ed7953"
             ],
             [
              0.7777777777777778,
              "#fb9f3a"
             ],
             [
              0.8888888888888888,
              "#fdca26"
             ],
             [
              1,
              "#f0f921"
             ]
            ],
            "type": "heatmap"
           }
          ],
          "heatmapgl": [
           {
            "colorbar": {
             "outlinewidth": 0,
             "ticks": ""
            },
            "colorscale": [
             [
              0,
              "#0d0887"
             ],
             [
              0.1111111111111111,
              "#46039f"
             ],
             [
              0.2222222222222222,
              "#7201a8"
             ],
             [
              0.3333333333333333,
              "#9c179e"
             ],
             [
              0.4444444444444444,
              "#bd3786"
             ],
             [
              0.5555555555555556,
              "#d8576b"
             ],
             [
              0.6666666666666666,
              "#ed7953"
             ],
             [
              0.7777777777777778,
              "#fb9f3a"
             ],
             [
              0.8888888888888888,
              "#fdca26"
             ],
             [
              1,
              "#f0f921"
             ]
            ],
            "type": "heatmapgl"
           }
          ],
          "histogram": [
           {
            "marker": {
             "colorbar": {
              "outlinewidth": 0,
              "ticks": ""
             }
            },
            "type": "histogram"
           }
          ],
          "histogram2d": [
           {
            "colorbar": {
             "outlinewidth": 0,
             "ticks": ""
            },
            "colorscale": [
             [
              0,
              "#0d0887"
             ],
             [
              0.1111111111111111,
              "#46039f"
             ],
             [
              0.2222222222222222,
              "#7201a8"
             ],
             [
              0.3333333333333333,
              "#9c179e"
             ],
             [
              0.4444444444444444,
              "#bd3786"
             ],
             [
              0.5555555555555556,
              "#d8576b"
             ],
             [
              0.6666666666666666,
              "#ed7953"
             ],
             [
              0.7777777777777778,
              "#fb9f3a"
             ],
             [
              0.8888888888888888,
              "#fdca26"
             ],
             [
              1,
              "#f0f921"
             ]
            ],
            "type": "histogram2d"
           }
          ],
          "histogram2dcontour": [
           {
            "colorbar": {
             "outlinewidth": 0,
             "ticks": ""
            },
            "colorscale": [
             [
              0,
              "#0d0887"
             ],
             [
              0.1111111111111111,
              "#46039f"
             ],
             [
              0.2222222222222222,
              "#7201a8"
             ],
             [
              0.3333333333333333,
              "#9c179e"
             ],
             [
              0.4444444444444444,
              "#bd3786"
             ],
             [
              0.5555555555555556,
              "#d8576b"
             ],
             [
              0.6666666666666666,
              "#ed7953"
             ],
             [
              0.7777777777777778,
              "#fb9f3a"
             ],
             [
              0.8888888888888888,
              "#fdca26"
             ],
             [
              1,
              "#f0f921"
             ]
            ],
            "type": "histogram2dcontour"
           }
          ],
          "mesh3d": [
           {
            "colorbar": {
             "outlinewidth": 0,
             "ticks": ""
            },
            "type": "mesh3d"
           }
          ],
          "parcoords": [
           {
            "line": {
             "colorbar": {
              "outlinewidth": 0,
              "ticks": ""
             }
            },
            "type": "parcoords"
           }
          ],
          "pie": [
           {
            "automargin": true,
            "type": "pie"
           }
          ],
          "scatter": [
           {
            "marker": {
             "colorbar": {
              "outlinewidth": 0,
              "ticks": ""
             }
            },
            "type": "scatter"
           }
          ],
          "scatter3d": [
           {
            "line": {
             "colorbar": {
              "outlinewidth": 0,
              "ticks": ""
             }
            },
            "marker": {
             "colorbar": {
              "outlinewidth": 0,
              "ticks": ""
             }
            },
            "type": "scatter3d"
           }
          ],
          "scattercarpet": [
           {
            "marker": {
             "colorbar": {
              "outlinewidth": 0,
              "ticks": ""
             }
            },
            "type": "scattercarpet"
           }
          ],
          "scattergeo": [
           {
            "marker": {
             "colorbar": {
              "outlinewidth": 0,
              "ticks": ""
             }
            },
            "type": "scattergeo"
           }
          ],
          "scattergl": [
           {
            "marker": {
             "colorbar": {
              "outlinewidth": 0,
              "ticks": ""
             }
            },
            "type": "scattergl"
           }
          ],
          "scattermapbox": [
           {
            "marker": {
             "colorbar": {
              "outlinewidth": 0,
              "ticks": ""
             }
            },
            "type": "scattermapbox"
           }
          ],
          "scatterpolar": [
           {
            "marker": {
             "colorbar": {
              "outlinewidth": 0,
              "ticks": ""
             }
            },
            "type": "scatterpolar"
           }
          ],
          "scatterpolargl": [
           {
            "marker": {
             "colorbar": {
              "outlinewidth": 0,
              "ticks": ""
             }
            },
            "type": "scatterpolargl"
           }
          ],
          "scatterternary": [
           {
            "marker": {
             "colorbar": {
              "outlinewidth": 0,
              "ticks": ""
             }
            },
            "type": "scatterternary"
           }
          ],
          "surface": [
           {
            "colorbar": {
             "outlinewidth": 0,
             "ticks": ""
            },
            "colorscale": [
             [
              0,
              "#0d0887"
             ],
             [
              0.1111111111111111,
              "#46039f"
             ],
             [
              0.2222222222222222,
              "#7201a8"
             ],
             [
              0.3333333333333333,
              "#9c179e"
             ],
             [
              0.4444444444444444,
              "#bd3786"
             ],
             [
              0.5555555555555556,
              "#d8576b"
             ],
             [
              0.6666666666666666,
              "#ed7953"
             ],
             [
              0.7777777777777778,
              "#fb9f3a"
             ],
             [
              0.8888888888888888,
              "#fdca26"
             ],
             [
              1,
              "#f0f921"
             ]
            ],
            "type": "surface"
           }
          ],
          "table": [
           {
            "cells": {
             "fill": {
              "color": "#EBF0F8"
             },
             "line": {
              "color": "white"
             }
            },
            "header": {
             "fill": {
              "color": "#C8D4E3"
             },
             "line": {
              "color": "white"
             }
            },
            "type": "table"
           }
          ]
         },
         "layout": {
          "annotationdefaults": {
           "arrowcolor": "#2a3f5f",
           "arrowhead": 0,
           "arrowwidth": 1
          },
          "autotypenumbers": "strict",
          "coloraxis": {
           "colorbar": {
            "outlinewidth": 0,
            "ticks": ""
           }
          },
          "colorscale": {
           "diverging": [
            [
             0,
             "#8e0152"
            ],
            [
             0.1,
             "#c51b7d"
            ],
            [
             0.2,
             "#de77ae"
            ],
            [
             0.3,
             "#f1b6da"
            ],
            [
             0.4,
             "#fde0ef"
            ],
            [
             0.5,
             "#f7f7f7"
            ],
            [
             0.6,
             "#e6f5d0"
            ],
            [
             0.7,
             "#b8e186"
            ],
            [
             0.8,
             "#7fbc41"
            ],
            [
             0.9,
             "#4d9221"
            ],
            [
             1,
             "#276419"
            ]
           ],
           "sequential": [
            [
             0,
             "#0d0887"
            ],
            [
             0.1111111111111111,
             "#46039f"
            ],
            [
             0.2222222222222222,
             "#7201a8"
            ],
            [
             0.3333333333333333,
             "#9c179e"
            ],
            [
             0.4444444444444444,
             "#bd3786"
            ],
            [
             0.5555555555555556,
             "#d8576b"
            ],
            [
             0.6666666666666666,
             "#ed7953"
            ],
            [
             0.7777777777777778,
             "#fb9f3a"
            ],
            [
             0.8888888888888888,
             "#fdca26"
            ],
            [
             1,
             "#f0f921"
            ]
           ],
           "sequentialminus": [
            [
             0,
             "#0d0887"
            ],
            [
             0.1111111111111111,
             "#46039f"
            ],
            [
             0.2222222222222222,
             "#7201a8"
            ],
            [
             0.3333333333333333,
             "#9c179e"
            ],
            [
             0.4444444444444444,
             "#bd3786"
            ],
            [
             0.5555555555555556,
             "#d8576b"
            ],
            [
             0.6666666666666666,
             "#ed7953"
            ],
            [
             0.7777777777777778,
             "#fb9f3a"
            ],
            [
             0.8888888888888888,
             "#fdca26"
            ],
            [
             1,
             "#f0f921"
            ]
           ]
          },
          "colorway": [
           "#636efa",
           "#EF553B",
           "#00cc96",
           "#ab63fa",
           "#FFA15A",
           "#19d3f3",
           "#FF6692",
           "#B6E880",
           "#FF97FF",
           "#FECB52"
          ],
          "font": {
           "color": "#2a3f5f"
          },
          "geo": {
           "bgcolor": "white",
           "lakecolor": "white",
           "landcolor": "#E5ECF6",
           "showlakes": true,
           "showland": true,
           "subunitcolor": "white"
          },
          "hoverlabel": {
           "align": "left"
          },
          "hovermode": "closest",
          "mapbox": {
           "style": "light"
          },
          "paper_bgcolor": "white",
          "plot_bgcolor": "#E5ECF6",
          "polar": {
           "angularaxis": {
            "gridcolor": "white",
            "linecolor": "white",
            "ticks": ""
           },
           "bgcolor": "#E5ECF6",
           "radialaxis": {
            "gridcolor": "white",
            "linecolor": "white",
            "ticks": ""
           }
          },
          "scene": {
           "xaxis": {
            "backgroundcolor": "#E5ECF6",
            "gridcolor": "white",
            "gridwidth": 2,
            "linecolor": "white",
            "showbackground": true,
            "ticks": "",
            "zerolinecolor": "white"
           },
           "yaxis": {
            "backgroundcolor": "#E5ECF6",
            "gridcolor": "white",
            "gridwidth": 2,
            "linecolor": "white",
            "showbackground": true,
            "ticks": "",
            "zerolinecolor": "white"
           },
           "zaxis": {
            "backgroundcolor": "#E5ECF6",
            "gridcolor": "white",
            "gridwidth": 2,
            "linecolor": "white",
            "showbackground": true,
            "ticks": "",
            "zerolinecolor": "white"
           }
          },
          "shapedefaults": {
           "line": {
            "color": "#2a3f5f"
           }
          },
          "ternary": {
           "aaxis": {
            "gridcolor": "white",
            "linecolor": "white",
            "ticks": ""
           },
           "baxis": {
            "gridcolor": "white",
            "linecolor": "white",
            "ticks": ""
           },
           "bgcolor": "#E5ECF6",
           "caxis": {
            "gridcolor": "white",
            "linecolor": "white",
            "ticks": ""
           }
          },
          "title": {
           "x": 0.05
          },
          "xaxis": {
           "automargin": true,
           "gridcolor": "white",
           "linecolor": "white",
           "ticks": "",
           "title": {
            "standoff": 15
           },
           "zerolinecolor": "white",
           "zerolinewidth": 2
          },
          "yaxis": {
           "automargin": true,
           "gridcolor": "white",
           "linecolor": "white",
           "ticks": "",
           "title": {
            "standoff": 15
           },
           "zerolinecolor": "white",
           "zerolinewidth": 2
          }
         }
        }
       }
      },
      "image/png": "[encoded data removed]",
      "text/html": [
       "<div>                            <div id=\"2782a650-b2fd-4bf6-9758-05f0a0cf39de\" class=\"plotly-graph-div\" style=\"height:525px; width:100%;\"></div>            <script type=\"text/javascript\">                require([\"plotly\"], function(Plotly) {                    window.PLOTLYENV=window.PLOTLYENV || {};                                    if (document.getElementById(\"2782a650-b2fd-4bf6-9758-05f0a0cf39de\")) {                    Plotly.newPlot(                        \"2782a650-b2fd-4bf6-9758-05f0a0cf39de\",                        [{\"cells\": {\"align\": [\"left\", \"left\", \"left\", \"center\", \"center\", \"center\", \"center\", \"center\", \"center\"], \"fill\": {\"color\": \"white\"}, \"format\": [[null], [null], [null], [null], [\".2f\"], [\".2f\"], [\".2f\"], [\".2f\"], [\".2f\"]], \"line\": {\"color\": \"black\"}, \"values\": [[\"IBM.N\", \"AMGN.OQ\", \"ABBV.N\", \"UNH.N\", \"CIEN.N\", \"FB.OQ\", \"AKAM.OQ\", \"HD.N\", \"DFS.N\", \"JBHT.OQ\", \"PEP.OQ\", \"WMT.N\", \"SCHW.N\", \"KMB.N\", \"NVDA.OQ\", \"AMD.OQ\", \"QCOM.OQ\", \"MSFT.OQ\", \"NFLX.OQ\", \"ADBE.OQ\", \"GS.N\", \"AMZN.OQ\", \"NKE.N\", \"CTXS.OQ\", \"CRM.N\", \"SYF.N\", \"JPM.N\", \"MTZ.N\"], [\"INTL BUS MACHINE\", \"AMGEN\", \"ABBVIE\", \"UNITEDHEALTH GP\", \"CIENA CORPRATION\", \"FACEBOOK INC A\", \"AKAMAI TECH INC\", \"HOME DEPOT INC\", \"DISCOVER FINANC\", \"J.B. HUNT TRAN\", \"PEPSICO INC\", \"WALMART INC\", \"CHRLS SCHWB CRP\", \"KIMBERLY-CLARK\", \"NVIDIA CORP\", \"ADV MICRO DEVICE\", \"QUALCOMM INC\", \"MICROSOFT CP\", \"NETFLIX INC\", \"ADOBE INC\", \"GOLDM SACHS GRP\", \"AMAZON COM\", \"NIKE INC CL B\", \"CITRIX SYSTEMS\", \"SALESFORCE COM\", \"SYNCHRONY FIN\", \"JPMORGAN CHASE\", \"MASTEC INC\"], [\"Information Technology\", \"Health Care\", \"Health Care\", \"Health Care\", \"Information Technology\", \"Communication Services\", \"Information Technology\", \"Consumer Discretionary\", \"Financials\", \"Industrials\", \"Consumer Staples\", \"Consumer Staples\", \"Financials\", \"Consumer Staples\", \"Information Technology\", \"Information Technology\", \"Information Technology\", \"Information Technology\", \"Communication Services\", \"Information Technology\", \"Financials\", \"Consumer Discretionary\", \"Consumer Discretionary\", \"Information Technology\", \"Information Technology\", \"Financials\", \"Financials\", \"Industrials\"], [0, 0, 0, 1, 1, 1, 1, 1, 1, 1, 1, 1, 1, 1, 2, 2, 2, 2, 2, 2, 2, 2, 2, 2, 2, 3, 3, 4], [56.52, 54.21, 33.36, 55.92, 56.13, 51.11, 50.39, 51.83, 59.34, 51.68000000000001, 50.33, 55.059999999999995, 47.61, 54.66, 41.18, 42.36, 49.72, 46.78, 45.78, 43.230000000000004, 59.919999999999995, 42.68, 42.01, 47.22, 40.8, 70.15, 67.5, 57.99999999999999], [42.620000000000005, 39.21, 35.38, 75.51, 70.13000000000001, 68.49, 62.17, 63.94, 61.050000000000004, 60.589999999999996, 57.940000000000005, 45.08, 57.50999999999999, 53.839999999999996, 85.37, 90.01, 76.57000000000001, 82.11, 77.09, 83.85000000000001, 69.86, 67.66, 72.63, 55.54, 60.699999999999996, 57.830000000000005, 44.5, 45.65], [34.39, 42.59, 49.07, 47.19, 52.480000000000004, 48.92, 57.69, 49.49, 40.46, 50.59, 44.2, 54.33, 48.39, 42.1, 89.32, 64.21, 64.39, 61.23, 67.53, 57.9, 48.949999999999996, 66.57, 57.86, 54.56999999999999, 54.43, 36.97, 40.37, 52.18000000000001], [38.940000000000005, 43.830000000000005, 44.66, 52.75, 55.669999999999995, 52.18000000000001, 57.269999999999996, 52.01, 46.379999999999995, 52.25, 47.18, 53.05, 49.64, 45.75, 81.51, 64.8, 64.01, 62.19, 65.7, 59.589999999999996, 53.73, 63.14999999999999, 57.699999999999996, 53.61, 53.33, 45.08, 45.06, 52.080000000000005], [46.12, 46.050000000000004, 38.0, 60.589999999999996, 60.12, 56.64, 56.34, 55.489999999999995, 55.22, 54.52, 51.470000000000006, 51.38, 51.27, 51.23, 68.67999999999999, 64.5, 62.78, 62.760000000000005, 62.18, 61.11, 60.660000000000004, 57.4, 56.69, 51.970000000000006, 51.17, 57.54, 52.669999999999995, 52.22]]}, \"header\": {\"align\": \"left\", \"fill\": {\"color\": \"#003C5A\"}, \"font\": {\"color\": \"white\"}, \"line\": {\"color\": \"black\"}, \"values\": [\"Instrument\", \"Company Name\", \"Sector\", \"Clusters\", \"Valuation Score\", \"Fundamental Score\", \"Momentum Score\", \"Short Term Score\", \"Long Term Score\"]}, \"type\": \"table\"}],                        {\"template\": {\"data\": {\"bar\": [{\"error_x\": {\"color\": \"#2a3f5f\"}, \"error_y\": {\"color\": \"#2a3f5f\"}, \"marker\": {\"line\": {\"color\": \"#E5ECF6\", \"width\": 0.5}}, \"type\": \"bar\"}], \"barpolar\": [{\"marker\": {\"line\": {\"color\": \"#E5ECF6\", \"width\": 0.5}}, \"type\": \"barpolar\"}], \"carpet\": [{\"aaxis\": {\"endlinecolor\": \"#2a3f5f\", \"gridcolor\": \"white\", \"linecolor\": \"white\", \"minorgridcolor\": \"white\", \"startlinecolor\": \"#2a3f5f\"}, \"baxis\": {\"endlinecolor\": \"#2a3f5f\", \"gridcolor\": \"white\", \"linecolor\": \"white\", \"minorgridcolor\": \"white\", \"startlinecolor\": \"#2a3f5f\"}, \"type\": \"carpet\"}], \"choropleth\": [{\"colorbar\": {\"outlinewidth\": 0, \"ticks\": \"\"}, \"type\": \"choropleth\"}], \"contour\": [{\"colorbar\": {\"outlinewidth\": 0, \"ticks\": \"\"}, \"colorscale\": [[0.0, \"#0d0887\"], [0.1111111111111111, \"#46039f\"], [0.2222222222222222, \"#7201a8\"], [0.3333333333333333, \"#9c179e\"], [0.4444444444444444, \"#bd3786\"], [0.5555555555555556, \"#d8576b\"], [0.6666666666666666, \"#ed7953\"], [0.7777777777777778, \"#fb9f3a\"], [0.8888888888888888, \"#fdca26\"], [1.0, \"#f0f921\"]], \"type\": \"contour\"}], \"contourcarpet\": [{\"colorbar\": {\"outlinewidth\": 0, \"ticks\": \"\"}, \"type\": \"contourcarpet\"}], \"heatmap\": [{\"colorbar\": {\"outlinewidth\": 0, \"ticks\": \"\"}, \"colorscale\": [[0.0, \"#0d0887\"], [0.1111111111111111, \"#46039f\"], [0.2222222222222222, \"#7201a8\"], [0.3333333333333333, \"#9c179e\"], [0.4444444444444444, \"#bd3786\"], [0.5555555555555556, \"#d8576b\"], [0.6666666666666666, \"#ed7953\"], [0.7777777777777778, \"#fb9f3a\"], [0.8888888888888888, \"#fdca26\"], [1.0, \"#f0f921\"]], \"type\": \"heatmap\"}], \"heatmapgl\": [{\"colorbar\": {\"outlinewidth\": 0, \"ticks\": \"\"}, \"colorscale\": [[0.0, \"#0d0887\"], [0.1111111111111111, \"#46039f\"], [0.2222222222222222, \"#7201a8\"], [0.3333333333333333, \"#9c179e\"], [0.4444444444444444, \"#bd3786\"], [0.5555555555555556, \"#d8576b\"], [0.6666666666666666, \"#ed7953\"], [0.7777777777777778, \"#fb9f3a\"], [0.8888888888888888, \"#fdca26\"], [1.0, \"#f0f921\"]], \"type\": \"heatmapgl\"}], \"histogram\": [{\"marker\": {\"colorbar\": {\"outlinewidth\": 0, \"ticks\": \"\"}}, \"type\": \"histogram\"}], \"histogram2d\": [{\"colorbar\": {\"outlinewidth\": 0, \"ticks\": \"\"}, \"colorscale\": [[0.0, \"#0d0887\"], [0.1111111111111111, \"#46039f\"], [0.2222222222222222, \"#7201a8\"], [0.3333333333333333, \"#9c179e\"], [0.4444444444444444, \"#bd3786\"], [0.5555555555555556, \"#d8576b\"], [0.6666666666666666, \"#ed7953\"], [0.7777777777777778, \"#fb9f3a\"], [0.8888888888888888, \"#fdca26\"], [1.0, \"#f0f921\"]], \"type\": \"histogram2d\"}], \"histogram2dcontour\": [{\"colorbar\": {\"outlinewidth\": 0, \"ticks\": \"\"}, \"colorscale\": [[0.0, \"#0d0887\"], [0.1111111111111111, \"#46039f\"], [0.2222222222222222, \"#7201a8\"], [0.3333333333333333, \"#9c179e\"], [0.4444444444444444, \"#bd3786\"], [0.5555555555555556, \"#d8576b\"], [0.6666666666666666, \"#ed7953\"], [0.7777777777777778, \"#fb9f3a\"], [0.8888888888888888, \"#fdca26\"], [1.0, \"#f0f921\"]], \"type\": \"histogram2dcontour\"}], \"mesh3d\": [{\"colorbar\": {\"outlinewidth\": 0, \"ticks\": \"\"}, \"type\": \"mesh3d\"}], \"parcoords\": [{\"line\": {\"colorbar\": {\"outlinewidth\": 0, \"ticks\": \"\"}}, \"type\": \"parcoords\"}], \"pie\": [{\"automargin\": true, \"type\": \"pie\"}], \"scatter\": [{\"marker\": {\"colorbar\": {\"outlinewidth\": 0, \"ticks\": \"\"}}, \"type\": \"scatter\"}], \"scatter3d\": [{\"line\": {\"colorbar\": {\"outlinewidth\": 0, \"ticks\": \"\"}}, \"marker\": {\"colorbar\": {\"outlinewidth\": 0, \"ticks\": \"\"}}, \"type\": \"scatter3d\"}], \"scattercarpet\": [{\"marker\": {\"colorbar\": {\"outlinewidth\": 0, \"ticks\": \"\"}}, \"type\": \"scattercarpet\"}], \"scattergeo\": [{\"marker\": {\"colorbar\": {\"outlinewidth\": 0, \"ticks\": \"\"}}, \"type\": \"scattergeo\"}], \"scattergl\": [{\"marker\": {\"colorbar\": {\"outlinewidth\": 0, \"ticks\": \"\"}}, \"type\": \"scattergl\"}], \"scattermapbox\": [{\"marker\": {\"colorbar\": {\"outlinewidth\": 0, \"ticks\": \"\"}}, \"type\": \"scattermapbox\"}], \"scatterpolar\": [{\"marker\": {\"colorbar\": {\"outlinewidth\": 0, \"ticks\": \"\"}}, \"type\": \"scatterpolar\"}], \"scatterpolargl\": [{\"marker\": {\"colorbar\": {\"outlinewidth\": 0, \"ticks\": \"\"}}, \"type\": \"scatterpolargl\"}], \"scatterternary\": [{\"marker\": {\"colorbar\": {\"outlinewidth\": 0, \"ticks\": \"\"}}, \"type\": \"scatterternary\"}], \"surface\": [{\"colorbar\": {\"outlinewidth\": 0, \"ticks\": \"\"}, \"colorscale\": [[0.0, \"#0d0887\"], [0.1111111111111111, \"#46039f\"], [0.2222222222222222, \"#7201a8\"], [0.3333333333333333, \"#9c179e\"], [0.4444444444444444, \"#bd3786\"], [0.5555555555555556, \"#d8576b\"], [0.6666666666666666, \"#ed7953\"], [0.7777777777777778, \"#fb9f3a\"], [0.8888888888888888, \"#fdca26\"], [1.0, \"#f0f921\"]], \"type\": \"surface\"}], \"table\": [{\"cells\": {\"fill\": {\"color\": \"#EBF0F8\"}, \"line\": {\"color\": \"white\"}}, \"header\": {\"fill\": {\"color\": \"#C8D4E3\"}, \"line\": {\"color\": \"white\"}}, \"type\": \"table\"}]}, \"layout\": {\"annotationdefaults\": {\"arrowcolor\": \"#2a3f5f\", \"arrowhead\": 0, \"arrowwidth\": 1}, \"autotypenumbers\": \"strict\", \"coloraxis\": {\"colorbar\": {\"outlinewidth\": 0, \"ticks\": \"\"}}, \"colorscale\": {\"diverging\": [[0, \"#8e0152\"], [0.1, \"#c51b7d\"], [0.2, \"#de77ae\"], [0.3, \"#f1b6da\"], [0.4, \"#fde0ef\"], [0.5, \"#f7f7f7\"], [0.6, \"#e6f5d0\"], [0.7, \"#b8e186\"], [0.8, \"#7fbc41\"], [0.9, \"#4d9221\"], [1, \"#276419\"]], \"sequential\": [[0.0, \"#0d0887\"], [0.1111111111111111, \"#46039f\"], [0.2222222222222222, \"#7201a8\"], [0.3333333333333333, \"#9c179e\"], [0.4444444444444444, \"#bd3786\"], [0.5555555555555556, \"#d8576b\"], [0.6666666666666666, \"#ed7953\"], [0.7777777777777778, \"#fb9f3a\"], [0.8888888888888888, \"#fdca26\"], [1.0, \"#f0f921\"]], \"sequentialminus\": [[0.0, \"#0d0887\"], [0.1111111111111111, \"#46039f\"], [0.2222222222222222, \"#7201a8\"], [0.3333333333333333, \"#9c179e\"], [0.4444444444444444, \"#bd3786\"], [0.5555555555555556, \"#d8576b\"], [0.6666666666666666, \"#ed7953\"], [0.7777777777777778, \"#fb9f3a\"], [0.8888888888888888, \"#fdca26\"], [1.0, \"#f0f921\"]]}, \"colorway\": [\"#636efa\", \"#EF553B\", \"#00cc96\", \"#ab63fa\", \"#FFA15A\", \"#19d3f3\", \"#FF6692\", \"#B6E880\", \"#FF97FF\", \"#FECB52\"], \"font\": {\"color\": \"#2a3f5f\"}, \"geo\": {\"bgcolor\": \"white\", \"lakecolor\": \"white\", \"landcolor\": \"#E5ECF6\", \"showlakes\": true, \"showland\": true, \"subunitcolor\": \"white\"}, \"hoverlabel\": {\"align\": \"left\"}, \"hovermode\": \"closest\", \"mapbox\": {\"style\": \"light\"}, \"paper_bgcolor\": \"white\", \"plot_bgcolor\": \"#E5ECF6\", \"polar\": {\"angularaxis\": {\"gridcolor\": \"white\", \"linecolor\": \"white\", \"ticks\": \"\"}, \"bgcolor\": \"#E5ECF6\", \"radialaxis\": {\"gridcolor\": \"white\", \"linecolor\": \"white\", \"ticks\": \"\"}}, \"scene\": {\"xaxis\": {\"backgroundcolor\": \"#E5ECF6\", \"gridcolor\": \"white\", \"gridwidth\": 2, \"linecolor\": \"white\", \"showbackground\": true, \"ticks\": \"\", \"zerolinecolor\": \"white\"}, \"yaxis\": {\"backgroundcolor\": \"#E5ECF6\", \"gridcolor\": \"white\", \"gridwidth\": 2, \"linecolor\": \"white\", \"showbackground\": true, \"ticks\": \"\", \"zerolinecolor\": \"white\"}, \"zaxis\": {\"backgroundcolor\": \"#E5ECF6\", \"gridcolor\": \"white\", \"gridwidth\": 2, \"linecolor\": \"white\", \"showbackground\": true, \"ticks\": \"\", \"zerolinecolor\": \"white\"}}, \"shapedefaults\": {\"line\": {\"color\": \"#2a3f5f\"}}, \"ternary\": {\"aaxis\": {\"gridcolor\": \"white\", \"linecolor\": \"white\", \"ticks\": \"\"}, \"baxis\": {\"gridcolor\": \"white\", \"linecolor\": \"white\", \"ticks\": \"\"}, \"bgcolor\": \"#E5ECF6\", \"caxis\": {\"gridcolor\": \"white\", \"linecolor\": \"white\", \"ticks\": \"\"}}, \"title\": {\"x\": 0.05}, \"xaxis\": {\"automargin\": true, \"gridcolor\": \"white\", \"linecolor\": \"white\", \"ticks\": \"\", \"title\": {\"standoff\": 15}, \"zerolinecolor\": \"white\", \"zerolinewidth\": 2}, \"yaxis\": {\"automargin\": true, \"gridcolor\": \"white\", \"linecolor\": \"white\", \"ticks\": \"\", \"title\": {\"standoff\": 15}, \"zerolinecolor\": \"white\", \"zerolinewidth\": 2}}}},                        {\"responsive\": true}                    ).then(function(){\n",
       "                            \n",
       "var gd = document.getElementById('2782a650-b2fd-4bf6-9758-05f0a0cf39de');\n",
       "var x = new MutationObserver(function (mutations, observer) {{\n",
       "        var display = window.getComputedStyle(gd).display;\n",
       "        if (!display || display === 'none') {{\n",
       "            console.log([gd, 'removed!']);\n",
       "            Plotly.purge(gd);\n",
       "            observer.disconnect();\n",
       "        }}\n",
       "}});\n",
       "\n",
       "// Listen for the removal of the full notebook cells\n",
       "var notebookContainer = gd.closest('#notebook-container');\n",
       "if (notebookContainer) {{\n",
       "    x.observe(notebookContainer, {childList: true});\n",
       "}}\n",
       "\n",
       "// Listen for the clearing of the current output cell\n",
       "var outputEl = gd.closest('.output');\n",
       "if (outputEl) {{\n",
       "    x.observe(outputEl, {childList: true});\n",
       "}}\n",
       "\n",
       "                        })                };                });            </script>        </div>"
      ]
     },
     "metadata": {},
     "output_type": "display_data"
    },
    {
     "data": {
      "text/html": [
       "<div>\n",
       "<style scoped>\n",
       "    .dataframe tbody tr th:only-of-type {\n",
       "        vertical-align: middle;\n",
       "    }\n",
       "\n",
       "    .dataframe tbody tr th {\n",
       "        vertical-align: top;\n",
       "    }\n",
       "\n",
       "    .dataframe thead th {\n",
       "        text-align: right;\n",
       "    }\n",
       "</style>\n",
       "<table border=\"1\" class=\"dataframe\">\n",
       "  <thead>\n",
       "    <tr style=\"text-align: right;\">\n",
       "      <th></th>\n",
       "      <th>Instrument</th>\n",
       "      <th>Company Name</th>\n",
       "      <th>Sector</th>\n",
       "      <th>Clusters</th>\n",
       "      <th>Valuation Score</th>\n",
       "      <th>Fundamental Score</th>\n",
       "      <th>Momentum Score</th>\n",
       "      <th>Short Term Score</th>\n",
       "      <th>Long Term Score</th>\n",
       "    </tr>\n",
       "  </thead>\n",
       "  <tbody>\n",
       "    <tr>\n",
       "      <th>0</th>\n",
       "      <td>IBM.N</td>\n",
       "      <td>INTL BUS MACHINE</td>\n",
       "      <td>Information Technology</td>\n",
       "      <td>0</td>\n",
       "      <td>56.52</td>\n",
       "      <td>42.62</td>\n",
       "      <td>34.39</td>\n",
       "      <td>38.94</td>\n",
       "      <td>46.12</td>\n",
       "    </tr>\n",
       "    <tr>\n",
       "      <th>1</th>\n",
       "      <td>AMGN.OQ</td>\n",
       "      <td>AMGEN</td>\n",
       "      <td>Health Care</td>\n",
       "      <td>0</td>\n",
       "      <td>54.21</td>\n",
       "      <td>39.21</td>\n",
       "      <td>42.59</td>\n",
       "      <td>43.83</td>\n",
       "      <td>46.05</td>\n",
       "    </tr>\n",
       "    <tr>\n",
       "      <th>2</th>\n",
       "      <td>ABBV.N</td>\n",
       "      <td>ABBVIE</td>\n",
       "      <td>Health Care</td>\n",
       "      <td>0</td>\n",
       "      <td>33.36</td>\n",
       "      <td>35.38</td>\n",
       "      <td>49.07</td>\n",
       "      <td>44.66</td>\n",
       "      <td>38.00</td>\n",
       "    </tr>\n",
       "    <tr>\n",
       "      <th>3</th>\n",
       "      <td>UNH.N</td>\n",
       "      <td>UNITEDHEALTH GP</td>\n",
       "      <td>Health Care</td>\n",
       "      <td>1</td>\n",
       "      <td>55.92</td>\n",
       "      <td>75.51</td>\n",
       "      <td>47.19</td>\n",
       "      <td>52.75</td>\n",
       "      <td>60.59</td>\n",
       "    </tr>\n",
       "    <tr>\n",
       "      <th>4</th>\n",
       "      <td>CIEN.N</td>\n",
       "      <td>CIENA CORPRATION</td>\n",
       "      <td>Information Technology</td>\n",
       "      <td>1</td>\n",
       "      <td>56.13</td>\n",
       "      <td>70.13</td>\n",
       "      <td>52.48</td>\n",
       "      <td>55.67</td>\n",
       "      <td>60.12</td>\n",
       "    </tr>\n",
       "    <tr>\n",
       "      <th>5</th>\n",
       "      <td>FB.OQ</td>\n",
       "      <td>FACEBOOK INC A</td>\n",
       "      <td>Communication Services</td>\n",
       "      <td>1</td>\n",
       "      <td>51.11</td>\n",
       "      <td>68.49</td>\n",
       "      <td>48.92</td>\n",
       "      <td>52.18</td>\n",
       "      <td>56.64</td>\n",
       "    </tr>\n",
       "    <tr>\n",
       "      <th>6</th>\n",
       "      <td>AKAM.OQ</td>\n",
       "      <td>AKAMAI TECH INC</td>\n",
       "      <td>Information Technology</td>\n",
       "      <td>1</td>\n",
       "      <td>50.39</td>\n",
       "      <td>62.17</td>\n",
       "      <td>57.69</td>\n",
       "      <td>57.27</td>\n",
       "      <td>56.34</td>\n",
       "    </tr>\n",
       "    <tr>\n",
       "      <th>7</th>\n",
       "      <td>HD.N</td>\n",
       "      <td>HOME DEPOT INC</td>\n",
       "      <td>Consumer Discretionary</td>\n",
       "      <td>1</td>\n",
       "      <td>51.83</td>\n",
       "      <td>63.94</td>\n",
       "      <td>49.49</td>\n",
       "      <td>52.01</td>\n",
       "      <td>55.49</td>\n",
       "    </tr>\n",
       "    <tr>\n",
       "      <th>8</th>\n",
       "      <td>DFS.N</td>\n",
       "      <td>DISCOVER FINANC</td>\n",
       "      <td>Financials</td>\n",
       "      <td>1</td>\n",
       "      <td>59.34</td>\n",
       "      <td>61.05</td>\n",
       "      <td>40.46</td>\n",
       "      <td>46.38</td>\n",
       "      <td>55.22</td>\n",
       "    </tr>\n",
       "    <tr>\n",
       "      <th>9</th>\n",
       "      <td>JBHT.OQ</td>\n",
       "      <td>J.B. HUNT TRAN</td>\n",
       "      <td>Industrials</td>\n",
       "      <td>1</td>\n",
       "      <td>51.68</td>\n",
       "      <td>60.59</td>\n",
       "      <td>50.59</td>\n",
       "      <td>52.25</td>\n",
       "      <td>54.52</td>\n",
       "    </tr>\n",
       "    <tr>\n",
       "      <th>10</th>\n",
       "      <td>PEP.OQ</td>\n",
       "      <td>PEPSICO INC</td>\n",
       "      <td>Consumer Staples</td>\n",
       "      <td>1</td>\n",
       "      <td>50.33</td>\n",
       "      <td>57.94</td>\n",
       "      <td>44.20</td>\n",
       "      <td>47.18</td>\n",
       "      <td>51.47</td>\n",
       "    </tr>\n",
       "    <tr>\n",
       "      <th>11</th>\n",
       "      <td>WMT.N</td>\n",
       "      <td>WALMART INC</td>\n",
       "      <td>Consumer Staples</td>\n",
       "      <td>1</td>\n",
       "      <td>55.06</td>\n",
       "      <td>45.08</td>\n",
       "      <td>54.33</td>\n",
       "      <td>53.05</td>\n",
       "      <td>51.38</td>\n",
       "    </tr>\n",
       "    <tr>\n",
       "      <th>12</th>\n",
       "      <td>SCHW.N</td>\n",
       "      <td>CHRLS SCHWB CRP</td>\n",
       "      <td>Financials</td>\n",
       "      <td>1</td>\n",
       "      <td>47.61</td>\n",
       "      <td>57.51</td>\n",
       "      <td>48.39</td>\n",
       "      <td>49.64</td>\n",
       "      <td>51.27</td>\n",
       "    </tr>\n",
       "    <tr>\n",
       "      <th>13</th>\n",
       "      <td>KMB.N</td>\n",
       "      <td>KIMBERLY-CLARK</td>\n",
       "      <td>Consumer Staples</td>\n",
       "      <td>1</td>\n",
       "      <td>54.66</td>\n",
       "      <td>53.84</td>\n",
       "      <td>42.10</td>\n",
       "      <td>45.75</td>\n",
       "      <td>51.23</td>\n",
       "    </tr>\n",
       "    <tr>\n",
       "      <th>14</th>\n",
       "      <td>NVDA.OQ</td>\n",
       "      <td>NVIDIA CORP</td>\n",
       "      <td>Information Technology</td>\n",
       "      <td>2</td>\n",
       "      <td>41.18</td>\n",
       "      <td>85.37</td>\n",
       "      <td>89.32</td>\n",
       "      <td>81.51</td>\n",
       "      <td>68.68</td>\n",
       "    </tr>\n",
       "    <tr>\n",
       "      <th>15</th>\n",
       "      <td>AMD.OQ</td>\n",
       "      <td>ADV MICRO DEVICE</td>\n",
       "      <td>Information Technology</td>\n",
       "      <td>2</td>\n",
       "      <td>42.36</td>\n",
       "      <td>90.01</td>\n",
       "      <td>64.21</td>\n",
       "      <td>64.80</td>\n",
       "      <td>64.50</td>\n",
       "    </tr>\n",
       "    <tr>\n",
       "      <th>16</th>\n",
       "      <td>QCOM.OQ</td>\n",
       "      <td>QUALCOMM INC</td>\n",
       "      <td>Information Technology</td>\n",
       "      <td>2</td>\n",
       "      <td>49.72</td>\n",
       "      <td>76.57</td>\n",
       "      <td>64.39</td>\n",
       "      <td>64.01</td>\n",
       "      <td>62.78</td>\n",
       "    </tr>\n",
       "    <tr>\n",
       "      <th>17</th>\n",
       "      <td>MSFT.OQ</td>\n",
       "      <td>MICROSOFT CP</td>\n",
       "      <td>Information Technology</td>\n",
       "      <td>2</td>\n",
       "      <td>46.78</td>\n",
       "      <td>82.11</td>\n",
       "      <td>61.23</td>\n",
       "      <td>62.19</td>\n",
       "      <td>62.76</td>\n",
       "    </tr>\n",
       "    <tr>\n",
       "      <th>18</th>\n",
       "      <td>NFLX.OQ</td>\n",
       "      <td>NETFLIX INC</td>\n",
       "      <td>Communication Services</td>\n",
       "      <td>2</td>\n",
       "      <td>45.78</td>\n",
       "      <td>77.09</td>\n",
       "      <td>67.53</td>\n",
       "      <td>65.70</td>\n",
       "      <td>62.18</td>\n",
       "    </tr>\n",
       "    <tr>\n",
       "      <th>19</th>\n",
       "      <td>ADBE.OQ</td>\n",
       "      <td>ADOBE INC</td>\n",
       "      <td>Information Technology</td>\n",
       "      <td>2</td>\n",
       "      <td>43.23</td>\n",
       "      <td>83.85</td>\n",
       "      <td>57.90</td>\n",
       "      <td>59.59</td>\n",
       "      <td>61.11</td>\n",
       "    </tr>\n",
       "    <tr>\n",
       "      <th>20</th>\n",
       "      <td>GS.N</td>\n",
       "      <td>GOLDM SACHS GRP</td>\n",
       "      <td>Financials</td>\n",
       "      <td>2</td>\n",
       "      <td>59.92</td>\n",
       "      <td>69.86</td>\n",
       "      <td>48.95</td>\n",
       "      <td>53.73</td>\n",
       "      <td>60.66</td>\n",
       "    </tr>\n",
       "    <tr>\n",
       "      <th>21</th>\n",
       "      <td>AMZN.OQ</td>\n",
       "      <td>AMAZON COM</td>\n",
       "      <td>Consumer Discretionary</td>\n",
       "      <td>2</td>\n",
       "      <td>42.68</td>\n",
       "      <td>67.66</td>\n",
       "      <td>66.57</td>\n",
       "      <td>63.15</td>\n",
       "      <td>57.40</td>\n",
       "    </tr>\n",
       "    <tr>\n",
       "      <th>22</th>\n",
       "      <td>NKE.N</td>\n",
       "      <td>NIKE INC CL B</td>\n",
       "      <td>Consumer Discretionary</td>\n",
       "      <td>2</td>\n",
       "      <td>42.01</td>\n",
       "      <td>72.63</td>\n",
       "      <td>57.86</td>\n",
       "      <td>57.70</td>\n",
       "      <td>56.69</td>\n",
       "    </tr>\n",
       "    <tr>\n",
       "      <th>23</th>\n",
       "      <td>CTXS.OQ</td>\n",
       "      <td>CITRIX SYSTEMS</td>\n",
       "      <td>Information Technology</td>\n",
       "      <td>2</td>\n",
       "      <td>47.22</td>\n",
       "      <td>55.54</td>\n",
       "      <td>54.57</td>\n",
       "      <td>53.61</td>\n",
       "      <td>51.97</td>\n",
       "    </tr>\n",
       "    <tr>\n",
       "      <th>24</th>\n",
       "      <td>CRM.N</td>\n",
       "      <td>SALESFORCE COM</td>\n",
       "      <td>Information Technology</td>\n",
       "      <td>2</td>\n",
       "      <td>40.80</td>\n",
       "      <td>60.70</td>\n",
       "      <td>54.43</td>\n",
       "      <td>53.33</td>\n",
       "      <td>51.17</td>\n",
       "    </tr>\n",
       "    <tr>\n",
       "      <th>25</th>\n",
       "      <td>SYF.N</td>\n",
       "      <td>SYNCHRONY FIN</td>\n",
       "      <td>Financials</td>\n",
       "      <td>3</td>\n",
       "      <td>70.15</td>\n",
       "      <td>57.83</td>\n",
       "      <td>36.97</td>\n",
       "      <td>45.08</td>\n",
       "      <td>57.54</td>\n",
       "    </tr>\n",
       "    <tr>\n",
       "      <th>26</th>\n",
       "      <td>JPM.N</td>\n",
       "      <td>JPMORGAN CHASE</td>\n",
       "      <td>Financials</td>\n",
       "      <td>3</td>\n",
       "      <td>67.50</td>\n",
       "      <td>44.50</td>\n",
       "      <td>40.37</td>\n",
       "      <td>45.06</td>\n",
       "      <td>52.67</td>\n",
       "    </tr>\n",
       "    <tr>\n",
       "      <th>27</th>\n",
       "      <td>MTZ.N</td>\n",
       "      <td>MASTEC INC</td>\n",
       "      <td>Industrials</td>\n",
       "      <td>4</td>\n",
       "      <td>58.00</td>\n",
       "      <td>45.65</td>\n",
       "      <td>52.18</td>\n",
       "      <td>52.08</td>\n",
       "      <td>52.22</td>\n",
       "    </tr>\n",
       "  </tbody>\n",
       "</table>\n",
       "</div>"
      ],
      "text/plain": [
       "   Instrument      Company Name                  Sector  Clusters  \\\n",
       "0       IBM.N  INTL BUS MACHINE  Information Technology         0   \n",
       "1     AMGN.OQ             AMGEN             Health Care         0   \n",
       "2      ABBV.N            ABBVIE             Health Care         0   \n",
       "3       UNH.N   UNITEDHEALTH GP             Health Care         1   \n",
       "4      CIEN.N  CIENA CORPRATION  Information Technology         1   \n",
       "5       FB.OQ    FACEBOOK INC A  Communication Services         1   \n",
       "6     AKAM.OQ   AKAMAI TECH INC  Information Technology         1   \n",
       "7        HD.N    HOME DEPOT INC  Consumer Discretionary         1   \n",
       "8       DFS.N   DISCOVER FINANC              Financials         1   \n",
       "9     JBHT.OQ    J.B. HUNT TRAN             Industrials         1   \n",
       "10     PEP.OQ       PEPSICO INC        Consumer Staples         1   \n",
       "11      WMT.N       WALMART INC        Consumer Staples         1   \n",
       "12     SCHW.N   CHRLS SCHWB CRP              Financials         1   \n",
       "13      KMB.N    KIMBERLY-CLARK        Consumer Staples         1   \n",
       "14    NVDA.OQ       NVIDIA CORP  Information Technology         2   \n",
       "15     AMD.OQ  ADV MICRO DEVICE  Information Technology         2   \n",
       "16    QCOM.OQ      QUALCOMM INC  Information Technology         2   \n",
       "17    MSFT.OQ      MICROSOFT CP  Information Technology         2   \n",
       "18    NFLX.OQ       NETFLIX INC  Communication Services         2   \n",
       "19    ADBE.OQ         ADOBE INC  Information Technology         2   \n",
       "20       GS.N   GOLDM SACHS GRP              Financials         2   \n",
       "21    AMZN.OQ        AMAZON COM  Consumer Discretionary         2   \n",
       "22      NKE.N     NIKE INC CL B  Consumer Discretionary         2   \n",
       "23    CTXS.OQ    CITRIX SYSTEMS  Information Technology         2   \n",
       "24      CRM.N    SALESFORCE COM  Information Technology         2   \n",
       "25      SYF.N     SYNCHRONY FIN              Financials         3   \n",
       "26      JPM.N    JPMORGAN CHASE              Financials         3   \n",
       "27      MTZ.N        MASTEC INC             Industrials         4   \n",
       "\n",
       "    Valuation Score  Fundamental Score  Momentum Score  Short Term Score  \\\n",
       "0             56.52              42.62           34.39             38.94   \n",
       "1             54.21              39.21           42.59             43.83   \n",
       "2             33.36              35.38           49.07             44.66   \n",
       "3             55.92              75.51           47.19             52.75   \n",
       "4             56.13              70.13           52.48             55.67   \n",
       "5             51.11              68.49           48.92             52.18   \n",
       "6             50.39              62.17           57.69             57.27   \n",
       "7             51.83              63.94           49.49             52.01   \n",
       "8             59.34              61.05           40.46             46.38   \n",
       "9             51.68              60.59           50.59             52.25   \n",
       "10            50.33              57.94           44.20             47.18   \n",
       "11            55.06              45.08           54.33             53.05   \n",
       "12            47.61              57.51           48.39             49.64   \n",
       "13            54.66              53.84           42.10             45.75   \n",
       "14            41.18              85.37           89.32             81.51   \n",
       "15            42.36              90.01           64.21             64.80   \n",
       "16            49.72              76.57           64.39             64.01   \n",
       "17            46.78              82.11           61.23             62.19   \n",
       "18            45.78              77.09           67.53             65.70   \n",
       "19            43.23              83.85           57.90             59.59   \n",
       "20            59.92              69.86           48.95             53.73   \n",
       "21            42.68              67.66           66.57             63.15   \n",
       "22            42.01              72.63           57.86             57.70   \n",
       "23            47.22              55.54           54.57             53.61   \n",
       "24            40.80              60.70           54.43             53.33   \n",
       "25            70.15              57.83           36.97             45.08   \n",
       "26            67.50              44.50           40.37             45.06   \n",
       "27            58.00              45.65           52.18             52.08   \n",
       "\n",
       "    Long Term Score  \n",
       "0             46.12  \n",
       "1             46.05  \n",
       "2             38.00  \n",
       "3             60.59  \n",
       "4             60.12  \n",
       "5             56.64  \n",
       "6             56.34  \n",
       "7             55.49  \n",
       "8             55.22  \n",
       "9             54.52  \n",
       "10            51.47  \n",
       "11            51.38  \n",
       "12            51.27  \n",
       "13            51.23  \n",
       "14            68.68  \n",
       "15            64.50  \n",
       "16            62.78  \n",
       "17            62.76  \n",
       "18            62.18  \n",
       "19            61.11  \n",
       "20            60.66  \n",
       "21            57.40  \n",
       "22            56.69  \n",
       "23            51.97  \n",
       "24            51.17  \n",
       "25            57.54  \n",
       "26            52.67  \n",
       "27            52.22  "
      ]
     },
     "execution_count": 150,
     "metadata": {},
     "output_type": "execute_result"
    }
   ],
   "source": [
    "run_stock_scores(k,z)"
   ]
  },
  {
   "cell_type": "code",
   "execution_count": null,
   "metadata": {},
   "outputs": [],
   "source": []
  }
 ],
 "metadata": {
  "kernelspec": {
   "display_name": "Python 3",
   "language": "python",
   "name": "python3"
  },
  "language_info": {
   "codemirror_mode": {
    "name": "ipython",
    "version": 3
   },
   "file_extension": ".py",
   "mimetype": "text/x-python",
   "name": "python",
   "nbconvert_exporter": "python",
   "pygments_lexer": "ipython3",
   "version": "3.7.9"
  }
 },
 "nbformat": 4,
 "nbformat_minor": 4
}
