{
 "cells": [
  {
   "cell_type": "code",
   "execution_count": 1,
   "metadata": {},
   "outputs": [],
   "source": [
    "import pandas as pd\n",
    "import numpy as np\n",
    "import eikon as ek\n",
    "import sys\n",
    "import config\n",
    "ek.set_app_key(config.eikon_key)\n",
    "from sklearn.preprocessing import RobustScaler, MinMaxScaler\n",
    "from scipy.stats.mstats import winsorize"
   ]
  },
  {
   "cell_type": "code",
   "execution_count": null,
   "metadata": {},
   "outputs": [],
   "source": []
  },
  {
   "cell_type": "code",
   "execution_count": 2,
   "metadata": {},
   "outputs": [],
   "source": [
    "hold = ek.get_data('SPY', fields = [ek.TR_Field('TR.ETPConstituentRIC',params={'SDate':'2021-01-07'})])[0]\n",
    "hold = hold[hold['Constituent RIC'] != 'GOOG.OQ']\n",
    "rics = [x for x in hold['Constituent RIC']]\n",
    "if 'GOOG.OQ' in rics == True:\n",
    "    rics.remove('GOOG.OQ')\n",
    "    "
   ]
  },
  {
   "cell_type": "code",
   "execution_count": 3,
   "metadata": {},
   "outputs": [],
   "source": [
    "valuation_fields = [ek.TR_Field('TR.GICSSector'),ek.TR_Field('TR.NetProfitMean', params={'Period':'FY2'}), ek.TR_Field('TR.EBITDAReportedMean',  params={'Period':'FY2'}),\n",
    "                    ek.TR_Field('TR.EBITMean', params = {'Period':'FY2'}), ek.TR_Field('TR.TotalEquity', params = {'Period':'FY0'}),\n",
    "                   ek.TR_Field('TR.CompanyMarketCap'), ek.TR_Field('TR.EV')]\n",
    "\n",
    "\n",
    "valuation_dat = ek.get_data(rics, fields=valuation_fields)[0]"
   ]
  },
  {
   "cell_type": "code",
   "execution_count": 4,
   "metadata": {},
   "outputs": [],
   "source": [
    "valuation_dat['Earnings_Yield'] = valuation_dat['Net Income - Mean']/valuation_dat['Company Market Cap']\n",
    "valuation_dat['Book_Market'] = valuation_dat['Total Equity']/valuation_dat['Company Market Cap']\n",
    "valuation_dat['EBITDA_EV'] = valuation_dat['EBITDA Reported - Mean']/valuation_dat['Enterprise Value (Daily Time Series)']\n",
    "valuation_dat['EBIT_EV'] = valuation_dat['EBIT - Mean']/valuation_dat['Enterprise Value (Daily Time Series)']\n",
    "valuation_dat_mkt = valuation_dat.filter(['Instrument', 'GICS Sector Name', 'Earnings_Yield', 'Book_Market', 'EBITDA_EV', 'EBIT_EV'])\n",
    "min_max = RobustScaler()\n",
    "valuation_dat_mkt[['Earnings_Yield', 'Book_Market', 'EBITDA_EV', 'EBIT_EV']] = min_max.fit_transform(valuation_dat_mkt[['Earnings_Yield', 'Book_Market', 'EBITDA_EV', 'EBIT_EV']])\n"
   ]
  },
  {
   "cell_type": "code",
   "execution_count": 5,
   "metadata": {},
   "outputs": [],
   "source": [
    "valuation_dat_mkt['Valuation Composite'] = valuation_dat_mkt.mean(axis = 1)\n",
    "valuation_dat_mkt[['Valuation Composite']] = min_max.fit_transform(valuation_dat_mkt[['Valuation Composite']])"
   ]
  },
  {
   "cell_type": "code",
   "execution_count": 6,
   "metadata": {},
   "outputs": [],
   "source": [
    "fundam_fields = [ek.TR_Field('TR.GICSSector'), ek.TR_Field('TR.ROICMean', params={'Period':'FY2'}), ek.TR_Field('TR.WACC'), ek.TR_Field('TR.ROEMean', params={'Period':'FY2'}),\n",
    "                 ek.TR_Field('TR.WACCCostofEquity'), ek.TR_Field('TR.LTGMean'), ek.TR_Field('TR.TtlDebtToTtlCapitalPct', params={'Period':'FY0'})]\n",
    "fundamental_dat = ek.get_data(rics, fields=fundam_fields)[0]"
   ]
  },
  {
   "cell_type": "code",
   "execution_count": 7,
   "metadata": {},
   "outputs": [
    {
     "data": {
      "text/html": [
       "<div>\n",
       "<style scoped>\n",
       "    .dataframe tbody tr th:only-of-type {\n",
       "        vertical-align: middle;\n",
       "    }\n",
       "\n",
       "    .dataframe tbody tr th {\n",
       "        vertical-align: top;\n",
       "    }\n",
       "\n",
       "    .dataframe thead th {\n",
       "        text-align: right;\n",
       "    }\n",
       "</style>\n",
       "<table border=\"1\" class=\"dataframe\">\n",
       "  <thead>\n",
       "    <tr style=\"text-align: right;\">\n",
       "      <th></th>\n",
       "      <th>Instrument</th>\n",
       "      <th>GICS Sector Name</th>\n",
       "      <th>Return On Invested Capital - Mean</th>\n",
       "      <th>Weighted Average Cost of Capital, (%)</th>\n",
       "      <th>Return On Equity - Mean</th>\n",
       "      <th>WACC Cost of Equity, (%)</th>\n",
       "      <th>Long Term Growth - Mean</th>\n",
       "      <th>Total Debt to Total Capital, Percent</th>\n",
       "    </tr>\n",
       "  </thead>\n",
       "  <tbody>\n",
       "    <tr>\n",
       "      <th>0</th>\n",
       "      <td>SHW.N</td>\n",
       "      <td>Materials</td>\n",
       "      <td>17.40000</td>\n",
       "      <td>6.412364</td>\n",
       "      <td>50.12260</td>\n",
       "      <td>6.993602</td>\n",
       "      <td>10.00620</td>\n",
       "      <td>67.808096</td>\n",
       "    </tr>\n",
       "    <tr>\n",
       "      <th>1</th>\n",
       "      <td>DTE.N</td>\n",
       "      <td>Utilities</td>\n",
       "      <td>5.70000</td>\n",
       "      <td>3.405481</td>\n",
       "      <td>10.92250</td>\n",
       "      <td>4.657826</td>\n",
       "      <td>6.03100</td>\n",
       "      <td>59.590304</td>\n",
       "    </tr>\n",
       "    <tr>\n",
       "      <th>2</th>\n",
       "      <td>LOW.N</td>\n",
       "      <td>Consumer Discretionary</td>\n",
       "      <td>28.30000</td>\n",
       "      <td>7.840439</td>\n",
       "      <td>378.75000</td>\n",
       "      <td>8.991240</td>\n",
       "      <td>24.15133</td>\n",
       "      <td>90.732212</td>\n",
       "    </tr>\n",
       "    <tr>\n",
       "      <th>3</th>\n",
       "      <td>WBA.OQ</td>\n",
       "      <td>Consumer Staples</td>\n",
       "      <td>11.15000</td>\n",
       "      <td>3.469738</td>\n",
       "      <td>17.39683</td>\n",
       "      <td>4.233007</td>\n",
       "      <td>3.84900</td>\n",
       "      <td>44.277768</td>\n",
       "    </tr>\n",
       "    <tr>\n",
       "      <th>4</th>\n",
       "      <td>MAR.OQ</td>\n",
       "      <td>Consumer Discretionary</td>\n",
       "      <td>11.00000</td>\n",
       "      <td>9.055555</td>\n",
       "      <td>127.89500</td>\n",
       "      <td>11.618620</td>\n",
       "      <td>-10.13000</td>\n",
       "      <td>93.962037</td>\n",
       "    </tr>\n",
       "    <tr>\n",
       "      <th>...</th>\n",
       "      <td>...</td>\n",
       "      <td>...</td>\n",
       "      <td>...</td>\n",
       "      <td>...</td>\n",
       "      <td>...</td>\n",
       "      <td>...</td>\n",
       "      <td>...</td>\n",
       "      <td>...</td>\n",
       "    </tr>\n",
       "    <tr>\n",
       "      <th>500</th>\n",
       "      <td>CI.N</td>\n",
       "      <td>Health Care</td>\n",
       "      <td>7.80000</td>\n",
       "      <td>4.239783</td>\n",
       "      <td>14.83188</td>\n",
       "      <td>6.050253</td>\n",
       "      <td>10.24950</td>\n",
       "      <td>45.185176</td>\n",
       "    </tr>\n",
       "    <tr>\n",
       "      <th>501</th>\n",
       "      <td>FIS.N</td>\n",
       "      <td>Information Technology</td>\n",
       "      <td>7.10000</td>\n",
       "      <td>4.753318</td>\n",
       "      <td>6.59671</td>\n",
       "      <td>5.763615</td>\n",
       "      <td>11.38067</td>\n",
       "      <td>28.991500</td>\n",
       "    </tr>\n",
       "    <tr>\n",
       "      <th>502</th>\n",
       "      <td>FTNT.OQ</td>\n",
       "      <td>Information Technology</td>\n",
       "      <td>17.20000</td>\n",
       "      <td>7.192088</td>\n",
       "      <td>49.49513</td>\n",
       "      <td>7.192088</td>\n",
       "      <td>19.24220</td>\n",
       "      <td>0.000000</td>\n",
       "    </tr>\n",
       "    <tr>\n",
       "      <th>503</th>\n",
       "      <td>TXN.OQ</td>\n",
       "      <td>Information Technology</td>\n",
       "      <td>44.46667</td>\n",
       "      <td>6.974315</td>\n",
       "      <td>64.61088</td>\n",
       "      <td>7.246261</td>\n",
       "      <td>10.00000</td>\n",
       "      <td>39.449354</td>\n",
       "    </tr>\n",
       "    <tr>\n",
       "      <th>504</th>\n",
       "      <td>CTAS.OQ</td>\n",
       "      <td>Industrials</td>\n",
       "      <td>17.15000</td>\n",
       "      <td>9.042850</td>\n",
       "      <td>30.52571</td>\n",
       "      <td>9.557292</td>\n",
       "      <td>12.50000</td>\n",
       "      <td>43.978284</td>\n",
       "    </tr>\n",
       "  </tbody>\n",
       "</table>\n",
       "<p>505 rows × 8 columns</p>\n",
       "</div>"
      ],
      "text/plain": [
       "    Instrument        GICS Sector Name  Return On Invested Capital - Mean  \\\n",
       "0        SHW.N               Materials                           17.40000   \n",
       "1        DTE.N               Utilities                            5.70000   \n",
       "2        LOW.N  Consumer Discretionary                           28.30000   \n",
       "3       WBA.OQ        Consumer Staples                           11.15000   \n",
       "4       MAR.OQ  Consumer Discretionary                           11.00000   \n",
       "..         ...                     ...                                ...   \n",
       "500       CI.N             Health Care                            7.80000   \n",
       "501      FIS.N  Information Technology                            7.10000   \n",
       "502    FTNT.OQ  Information Technology                           17.20000   \n",
       "503     TXN.OQ  Information Technology                           44.46667   \n",
       "504    CTAS.OQ             Industrials                           17.15000   \n",
       "\n",
       "     Weighted Average Cost of Capital, (%)  Return On Equity - Mean  \\\n",
       "0                                 6.412364                 50.12260   \n",
       "1                                 3.405481                 10.92250   \n",
       "2                                 7.840439                378.75000   \n",
       "3                                 3.469738                 17.39683   \n",
       "4                                 9.055555                127.89500   \n",
       "..                                     ...                      ...   \n",
       "500                               4.239783                 14.83188   \n",
       "501                               4.753318                  6.59671   \n",
       "502                               7.192088                 49.49513   \n",
       "503                               6.974315                 64.61088   \n",
       "504                               9.042850                 30.52571   \n",
       "\n",
       "     WACC Cost of Equity, (%)  Long Term Growth - Mean  \\\n",
       "0                    6.993602                 10.00620   \n",
       "1                    4.657826                  6.03100   \n",
       "2                    8.991240                 24.15133   \n",
       "3                    4.233007                  3.84900   \n",
       "4                   11.618620                -10.13000   \n",
       "..                        ...                      ...   \n",
       "500                  6.050253                 10.24950   \n",
       "501                  5.763615                 11.38067   \n",
       "502                  7.192088                 19.24220   \n",
       "503                  7.246261                 10.00000   \n",
       "504                  9.557292                 12.50000   \n",
       "\n",
       "     Total Debt to Total Capital, Percent  \n",
       "0                               67.808096  \n",
       "1                               59.590304  \n",
       "2                               90.732212  \n",
       "3                               44.277768  \n",
       "4                               93.962037  \n",
       "..                                    ...  \n",
       "500                             45.185176  \n",
       "501                             28.991500  \n",
       "502                              0.000000  \n",
       "503                             39.449354  \n",
       "504                             43.978284  \n",
       "\n",
       "[505 rows x 8 columns]"
      ]
     },
     "execution_count": 7,
     "metadata": {},
     "output_type": "execute_result"
    }
   ],
   "source": [
    "fundamental_dat"
   ]
  },
  {
   "cell_type": "code",
   "execution_count": 8,
   "metadata": {},
   "outputs": [
    {
     "name": "stderr",
     "output_type": "stream",
     "text": [
      "C:\\Users\\f16se\\Miniconda3\\lib\\site-packages\\ipykernel_launcher.py:2: SettingWithCopyWarning: \n",
      "A value is trying to be set on a copy of a slice from a DataFrame.\n",
      "Try using .loc[row_indexer,col_indexer] = value instead\n",
      "\n",
      "See the caveats in the documentation: https://pandas.pydata.org/pandas-docs/stable/user_guide/indexing.html#returning-a-view-versus-a-copy\n",
      "  \n",
      "C:\\Users\\f16se\\Miniconda3\\lib\\site-packages\\ipykernel_launcher.py:4: SettingWithCopyWarning: \n",
      "A value is trying to be set on a copy of a slice from a DataFrame.\n",
      "Try using .loc[row_indexer,col_indexer] = value instead\n",
      "\n",
      "See the caveats in the documentation: https://pandas.pydata.org/pandas-docs/stable/user_guide/indexing.html#returning-a-view-versus-a-copy\n",
      "  after removing the cwd from sys.path.\n"
     ]
    }
   ],
   "source": [
    "fundamental_1 = fundamental_dat[fundamental_dat['Return On Invested Capital - Mean'].isnull()]\n",
    "fundamental_1['Spread'] = fundamental_1['Return On Equity - Mean'] - fundamental_1['WACC Cost of Equity, (%)']\n",
    "fundamental_2 = fundamental_dat[fundamental_dat['Return On Invested Capital - Mean'].notnull()]\n",
    "fundamental_2['Spread'] = fundamental_2['Return On Invested Capital - Mean'] - fundamental_2['WACC Cost of Equity, (%)']\n",
    "fundamental_score = pd.concat([fundamental_2, fundamental_1])\n",
    "fundamental_score['Equity To Total Cap'] = 100 - fundamental_score['Total Debt to Total Capital, Percent']\n",
    "fundamental_score[['Spread', 'Long Term Growth - Mean', 'Equity To Total Cap']] = min_max.fit_transform(fundamental_score[['Spread', 'Long Term Growth - Mean', 'Equity To Total Cap']])\n",
    "fundamental_score['Fund_score'] = fundamental_score[['Spread', 'Long Term Growth - Mean', 'Equity To Total Cap']].sum(axis = 1)\n",
    "fundamental_score['Fund_score'] = min_max.fit_transform(fundamental_score[['Fund_score']])"
   ]
  },
  {
   "cell_type": "code",
   "execution_count": 9,
   "metadata": {},
   "outputs": [],
   "source": [
    "mom_fields = [ek.TR_Field('TR.GICSSector'), ek.TR_Field('TR.PricePctChg3M'), ek.TR_Field('TR.PricePctChg6M'), ek.TR_Field('TR.PricePctChg1Y'), ek.TR_Field('TR.BetaWklyAdj2Y')]\n",
    "momentum = ek.get_data(rics, fields=mom_fields)[0]\n",
    "spy_rets = ek.get_data('SPY', fields=mom_fields)[0]"
   ]
  },
  {
   "cell_type": "code",
   "execution_count": 10,
   "metadata": {},
   "outputs": [],
   "source": [
    "mom_1 = momentum[momentum['Weekly Beta, Adjusted - 2 Year'].notnull()]\n",
    "mom_2 = momentum[momentum['Weekly Beta, Adjusted - 2 Year'].isnull()]"
   ]
  },
  {
   "cell_type": "code",
   "execution_count": 11,
   "metadata": {},
   "outputs": [
    {
     "name": "stderr",
     "output_type": "stream",
     "text": [
      "C:\\Users\\f16se\\Miniconda3\\lib\\site-packages\\ipykernel_launcher.py:1: SettingWithCopyWarning: \n",
      "A value is trying to be set on a copy of a slice from a DataFrame.\n",
      "Try using .loc[row_indexer,col_indexer] = value instead\n",
      "\n",
      "See the caveats in the documentation: https://pandas.pydata.org/pandas-docs/stable/user_guide/indexing.html#returning-a-view-versus-a-copy\n",
      "  \"\"\"Entry point for launching an IPython kernel.\n",
      "C:\\Users\\f16se\\Miniconda3\\lib\\site-packages\\ipykernel_launcher.py:2: SettingWithCopyWarning: \n",
      "A value is trying to be set on a copy of a slice from a DataFrame.\n",
      "Try using .loc[row_indexer,col_indexer] = value instead\n",
      "\n",
      "See the caveats in the documentation: https://pandas.pydata.org/pandas-docs/stable/user_guide/indexing.html#returning-a-view-versus-a-copy\n",
      "  \n",
      "C:\\Users\\f16se\\Miniconda3\\lib\\site-packages\\ipykernel_launcher.py:3: SettingWithCopyWarning: \n",
      "A value is trying to be set on a copy of a slice from a DataFrame.\n",
      "Try using .loc[row_indexer,col_indexer] = value instead\n",
      "\n",
      "See the caveats in the documentation: https://pandas.pydata.org/pandas-docs/stable/user_guide/indexing.html#returning-a-view-versus-a-copy\n",
      "  This is separate from the ipykernel package so we can avoid doing imports until\n",
      "C:\\Users\\f16se\\Miniconda3\\lib\\site-packages\\ipykernel_launcher.py:4: SettingWithCopyWarning: \n",
      "A value is trying to be set on a copy of a slice from a DataFrame.\n",
      "Try using .loc[row_indexer,col_indexer] = value instead\n",
      "\n",
      "See the caveats in the documentation: https://pandas.pydata.org/pandas-docs/stable/user_guide/indexing.html#returning-a-view-versus-a-copy\n",
      "  after removing the cwd from sys.path.\n",
      "C:\\Users\\f16se\\Miniconda3\\lib\\site-packages\\ipykernel_launcher.py:5: SettingWithCopyWarning: \n",
      "A value is trying to be set on a copy of a slice from a DataFrame.\n",
      "Try using .loc[row_indexer,col_indexer] = value instead\n",
      "\n",
      "See the caveats in the documentation: https://pandas.pydata.org/pandas-docs/stable/user_guide/indexing.html#returning-a-view-versus-a-copy\n",
      "  \"\"\"\n",
      "C:\\Users\\f16se\\Miniconda3\\lib\\site-packages\\ipykernel_launcher.py:6: SettingWithCopyWarning: \n",
      "A value is trying to be set on a copy of a slice from a DataFrame.\n",
      "Try using .loc[row_indexer,col_indexer] = value instead\n",
      "\n",
      "See the caveats in the documentation: https://pandas.pydata.org/pandas-docs/stable/user_guide/indexing.html#returning-a-view-versus-a-copy\n",
      "  \n"
     ]
    }
   ],
   "source": [
    "\n",
    "mom_1['3_month'] = mom_1['3-month Price PCT Change'] - (spy_rets['3-month Price PCT Change'].iloc[0] * mom_1['Weekly Beta, Adjusted - 2 Year'])\n",
    "mom_1['6_month'] = mom_1['6-month Price PCT Change'] - (spy_rets['6-month Price PCT Change'].iloc[0] * mom_1['Weekly Beta, Adjusted - 2 Year'])\n",
    "mom_1['12_month'] = mom_1['1-year Price PCT Change'] - (spy_rets['1-year Price PCT Change'].iloc[0] * mom_1['Weekly Beta, Adjusted - 2 Year'])\n",
    "mom_2['3_month'] = mom_2['3-month Price PCT Change'] - spy_rets['3-month Price PCT Change'].iloc[0]\n",
    "mom_2['6_month'] = mom_2['6-month Price PCT Change'] - spy_rets['6-month Price PCT Change'].iloc[0]\n",
    "mom_2['12_month'] = mom_2['1-year Price PCT Change'] - spy_rets['1-year Price PCT Change'].iloc[0]\n",
    "\n",
    "momentum = pd.concat([mom_1, mom_2])\n"
   ]
  },
  {
   "cell_type": "code",
   "execution_count": 12,
   "metadata": {},
   "outputs": [],
   "source": [
    "momentum = momentum.filter(['Instrument', 'GICS Sector Name', '3_month', '6_month', '12_month'])"
   ]
  },
  {
   "cell_type": "code",
   "execution_count": 13,
   "metadata": {},
   "outputs": [],
   "source": [
    "momentum[['3_month', '6_month', '12_month']] = min_max.fit_transform(momentum[['3_month', '6_month', '12_month']])\n",
    "momentum['Momentum Score'] = momentum.sum(axis = 1)\n",
    "momentum[['Momentum Score']] = min_max.fit_transform(momentum[['Momentum Score']])"
   ]
  },
  {
   "cell_type": "code",
   "execution_count": 14,
   "metadata": {},
   "outputs": [],
   "source": [
    "score_tab = valuation_dat_mkt.filter(['Instrument', 'GICS Sector Name','Valuation Composite'])\n",
    "score_tab = score_tab.join(momentum['Momentum Score'])\n",
    "score_tab = score_tab.join(fundamental_score['Fund_score'])\n"
   ]
  },
  {
   "cell_type": "code",
   "execution_count": 15,
   "metadata": {},
   "outputs": [],
   "source": [
    "names = ek.get_data(rics, fields='TR.CommonName')[0]"
   ]
  },
  {
   "cell_type": "code",
   "execution_count": 16,
   "metadata": {},
   "outputs": [],
   "source": [
    "score_tab = score_tab.join(names['Company Common Name'])"
   ]
  },
  {
   "cell_type": "code",
   "execution_count": 17,
   "metadata": {},
   "outputs": [],
   "source": [
    "score_tab = score_tab.filter(['Instrument', 'Company Common Name', 'GICS Sector Name', 'Valuation Composite', 'Momentum Score', 'Fund_score'])\n",
    "#score_tab = score_tab.replace(np.nan, 0)\n",
    "score_tab['Short Term Score'] = score_tab['Momentum Score']*0.5 + 0.3*score_tab['Fund_score'] + 0.2*score_tab['Valuation Composite']\n",
    "score_tab['Long Term Score'] = score_tab['Momentum Score']*0.2 + 0.3*score_tab['Fund_score'] + 0.5*score_tab['Valuation Composite']\n",
    "score_tab[['Short Term Score', 'Long Term Score']] = min_max.fit_transform(score_tab[['Short Term Score', 'Long Term Score']])\n",
    "rescale = MinMaxScaler()\n",
    "\n",
    "score_tab[['Valuation Composite', 'Momentum Score', 'Fund_score', 'Short Term Score', 'Long Term Score']] = round(score_tab[['Valuation Composite', 'Momentum Score', 'Fund_score', 'Short Term Score', 'Long Term Score']]*100,0)\n",
    "score_tab = score_tab.rename(columns = {'Valuation Composite': 'Valuation Score', 'Fund_score': 'Fundamental Score', 'GICS Sector Name': 'Sector', 'Company Common Name': 'Name'})\n",
    "\n",
    "\n"
   ]
  },
  {
   "cell_type": "code",
   "execution_count": 18,
   "metadata": {},
   "outputs": [],
   "source": [
    "tickers = []\n",
    "for r in rics:\n",
    "    x = r.split('.',1)\n",
    "    tickers.append(x[0])\n",
    "score_tab['Instrument'] = tickers\n",
    "score_tab = score_tab.rename(columns = {'Instrument':'Symbol'})\n",
    "score_tab.to_csv('score_tab.csv')"
   ]
  },
  {
   "cell_type": "code",
   "execution_count": null,
   "metadata": {},
   "outputs": [],
   "source": []
  },
  {
   "cell_type": "code",
   "execution_count": 19,
   "metadata": {},
   "outputs": [
    {
     "data": {
      "text/plain": [
       "{'spreadsheetId': '1yEncOOYS18ZWXpDz_UY3Xx2xn-7zLNvq0KgAIVMXmdk',\n",
       " 'updatedRange': \"'A worksheet'!A1:H506\",\n",
       " 'updatedRows': 506,\n",
       " 'updatedColumns': 8,\n",
       " 'updatedCells': 4048}"
      ]
     },
     "execution_count": 19,
     "metadata": {},
     "output_type": "execute_result"
    }
   ],
   "source": [
    "import gspread\n",
    "\n",
    "gc = gspread.oauth()\n",
    "\n",
    "sh = gc.open(\"score spreadsheet\")\n",
    "worksheet = sh.worksheet(title=\"A worksheet\")\n",
    "worksheet.update([score_tab.columns.values.tolist()]+score_tab.values.tolist())\n",
    "\n"
   ]
  },
  {
   "cell_type": "code",
   "execution_count": null,
   "metadata": {},
   "outputs": [],
   "source": []
  }
 ],
 "metadata": {
  "kernelspec": {
   "display_name": "Python 3",
   "language": "python",
   "name": "python3"
  },
  "language_info": {
   "codemirror_mode": {
    "name": "ipython",
    "version": 3
   },
   "file_extension": ".py",
   "mimetype": "text/x-python",
   "name": "python",
   "nbconvert_exporter": "python",
   "pygments_lexer": "ipython3",
   "version": "3.7.9"
  }
 },
 "nbformat": 4,
 "nbformat_minor": 4
}
